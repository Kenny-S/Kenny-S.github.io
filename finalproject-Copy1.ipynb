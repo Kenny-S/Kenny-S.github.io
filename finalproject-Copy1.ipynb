{
 "cells": [
  {
   "cell_type": "markdown",
   "id": "cf39ad6c-7897-4211-9143-97d066d3d071",
   "metadata": {},
   "source": [
    "# Analysis of the S&P 500\n",
    "Kenny Song\n",
    "## Introduction\n",
    "\n",
    "The Standard and Poor's 500, or more commonly refered to as the S&P 500, is a stock market index which contains 500 of the largest companies in the United States (though not an exact list of the top 500 companies). This index is used to measure the value of the US stock market and the health of the US economy. Alongside the Dow Jones Industrial Average and the NASDAQ Composite, the S&P 500 is one the most widely followed stock market indexes. \n",
    "\n",
    "Companies in the S&P 500 are weighted by market capitalization (share price multiplied by number of shares outstanding), so larger companies influence the index more heavily. Currently the top 5 companies by market capitalization in the S&P 500, from highest to lowest, are: Apple, Microsoft, Alphabhet (Google), Amazon, and NVIDIA. \n",
    "\n",
    "Acquiring wealth is a universally shared ambition. For many people becoming a multi-millionaire is a dream, a dream that often feels out of reach. \n",
    "And whether or not you aspire to becoming rich, money is nonetheless an important aspect of your life. You'll spend a a majority of your waking day working to make money and a majority of your adult life working to save money for your retirement. And unless you're one of those lucky few individuals who are truly passionate about the work you do — your 9-5 job, the thing you spend a majority of your life doing, is a means to an end: to make money. \n",
    "\n",
    "Now, in order to build wealth, it is crucial that you invest money. The inflation rate as of July 2023 was 3.2% according the CPI (more about CPI here https://www.bls.gov/cpi/). That is to say the average price of goods and services have increased 3.2% from a year ago. As a result, you're spending power actually decreases for the money you save and hold on to. Therefore, it's important to invest money if you wish to build wealth.\n",
    "\n",
    "If you would have invested 1000 dollars into a fund which tracks the S&P 500 (such as Standard & Poor's depository receipt, more about that here https://www.investopedia.com/terms/s/spiders.asp), 10 years ago, your investment would be worth approximately 2869 dollars today.\n",
    "\n",
    "Compared to other investment options, the S&P 500 holds up well. Since 1957 when 500 stocks were adopted in the index to December 2022, the average annual rate of return has been 10.15% (More here https://www.investopedia.com/ask/answers/042415/what-average-annual-return-sp-500.asp).\n",
    "\n",
    "In fact, Warren Buffett, the man widely regarded as being the greatest investor views the S&P 500 as a good buy. He argued that as opposed to putting your money into an actively managed fund, it would be wiser to invest into a passively managed fund that tracks an index such as the S&P 500. In 2008, he made a bet with the hedge fund industry that an S&P 500 index fund would generate greater returns over 10 years than a portfolio of stocks hand-picked by professionals. And in the end, Warren Buffet won (more about that bet here https://www.investopedia.com/articles/investing/030916/buffetts-bet-hedge-funds-year-eight-brka-brkb.asp)."
   ]
  },
  {
   "cell_type": "code",
   "execution_count": 1,
   "id": "5c880451-0925-4fdd-af02-9810e4384d44",
   "metadata": {
    "scrolled": true
   },
   "outputs": [
    {
     "name": "stdout",
     "output_type": "stream",
     "text": [
      "Requirement already satisfied: pandasql in /opt/conda/lib/python3.11/site-packages (0.7.3)\n",
      "Requirement already satisfied: numpy in /opt/conda/lib/python3.11/site-packages (from pandasql) (1.24.4)\n",
      "Requirement already satisfied: pandas in /opt/conda/lib/python3.11/site-packages (from pandasql) (2.0.3)\n",
      "Requirement already satisfied: sqlalchemy in /opt/conda/lib/python3.11/site-packages (from pandasql) (2.0.18)\n",
      "Requirement already satisfied: python-dateutil>=2.8.2 in /opt/conda/lib/python3.11/site-packages (from pandas->pandasql) (2.8.2)\n",
      "Requirement already satisfied: pytz>=2020.1 in /opt/conda/lib/python3.11/site-packages (from pandas->pandasql) (2023.3)\n",
      "Requirement already satisfied: tzdata>=2022.1 in /opt/conda/lib/python3.11/site-packages (from pandas->pandasql) (2023.3)\n",
      "Requirement already satisfied: typing-extensions>=4.2.0 in /opt/conda/lib/python3.11/site-packages (from sqlalchemy->pandasql) (4.7.1)\n",
      "Requirement already satisfied: greenlet!=0.4.17 in /opt/conda/lib/python3.11/site-packages (from sqlalchemy->pandasql) (2.0.2)\n",
      "Requirement already satisfied: six>=1.5 in /opt/conda/lib/python3.11/site-packages (from python-dateutil>=2.8.2->pandas->pandasql) (1.16.0)\n",
      "Requirement already satisfied: lxml in /opt/conda/lib/python3.11/site-packages (4.9.3)\n",
      "Requirement already satisfied: html5lib in /opt/conda/lib/python3.11/site-packages (1.1)\n",
      "Requirement already satisfied: six>=1.9 in /opt/conda/lib/python3.11/site-packages (from html5lib) (1.16.0)\n",
      "Requirement already satisfied: webencodings in /opt/conda/lib/python3.11/site-packages (from html5lib) (0.5.1)\n"
     ]
    }
   ],
   "source": [
    "!pip install pandasql\n",
    "!pip install lxml\n",
    "!pip install html5lib\n",
    "import pandas as pd\n",
    "import numpy as np\n",
    "import matplotlib.pyplot as plt\n",
    "import requests\n",
    "from bs4 import BeautifulSoup\n",
    "from pandasql import sqldf"
   ]
  },
  {
   "cell_type": "markdown",
   "id": "f0fd4e5e-2d4b-4f85-ba6b-b17f041904c4",
   "metadata": {},
   "source": [
    "## Part 1: Data Collection"
   ]
  },
  {
   "cell_type": "markdown",
   "id": "e4a3d953-2bf9-4b8e-97ea-d0f0f627a50b",
   "metadata": {},
   "source": [
    "First we're going to get a list of all companies in the S&P 500 by scraping data from this website: https://en.wikipedia.org/wiki/List_of_S%26P_500_companies"
   ]
  },
  {
   "cell_type": "code",
   "execution_count": 2,
   "id": "464151ad-23d1-47ae-ab01-d5d1877aa8b6",
   "metadata": {
    "scrolled": true
   },
   "outputs": [
    {
     "data": {
      "text/html": [
       "<div>\n",
       "<style scoped>\n",
       "    .dataframe tbody tr th:only-of-type {\n",
       "        vertical-align: middle;\n",
       "    }\n",
       "\n",
       "    .dataframe tbody tr th {\n",
       "        vertical-align: top;\n",
       "    }\n",
       "\n",
       "    .dataframe thead th {\n",
       "        text-align: right;\n",
       "    }\n",
       "</style>\n",
       "<table border=\"1\" class=\"dataframe\">\n",
       "  <thead>\n",
       "    <tr style=\"text-align: right;\">\n",
       "      <th></th>\n",
       "      <th>Symbol</th>\n",
       "      <th>Security</th>\n",
       "      <th>GICS Sector</th>\n",
       "      <th>GICS Sub-Industry</th>\n",
       "      <th>Headquarters Location</th>\n",
       "      <th>Date added</th>\n",
       "      <th>CIK</th>\n",
       "      <th>Founded</th>\n",
       "    </tr>\n",
       "  </thead>\n",
       "  <tbody>\n",
       "    <tr>\n",
       "      <th>0</th>\n",
       "      <td>MMM</td>\n",
       "      <td>3M</td>\n",
       "      <td>Industrials</td>\n",
       "      <td>Industrial Conglomerates</td>\n",
       "      <td>Saint Paul, Minnesota</td>\n",
       "      <td>1957-03-04</td>\n",
       "      <td>66740</td>\n",
       "      <td>1902</td>\n",
       "    </tr>\n",
       "    <tr>\n",
       "      <th>1</th>\n",
       "      <td>AOS</td>\n",
       "      <td>A. O. Smith</td>\n",
       "      <td>Industrials</td>\n",
       "      <td>Building Products</td>\n",
       "      <td>Milwaukee, Wisconsin</td>\n",
       "      <td>2017-07-26</td>\n",
       "      <td>91142</td>\n",
       "      <td>1916</td>\n",
       "    </tr>\n",
       "    <tr>\n",
       "      <th>2</th>\n",
       "      <td>ABT</td>\n",
       "      <td>Abbott</td>\n",
       "      <td>Health Care</td>\n",
       "      <td>Health Care Equipment</td>\n",
       "      <td>North Chicago, Illinois</td>\n",
       "      <td>1957-03-04</td>\n",
       "      <td>1800</td>\n",
       "      <td>1888</td>\n",
       "    </tr>\n",
       "    <tr>\n",
       "      <th>3</th>\n",
       "      <td>ABBV</td>\n",
       "      <td>AbbVie</td>\n",
       "      <td>Health Care</td>\n",
       "      <td>Pharmaceuticals</td>\n",
       "      <td>North Chicago, Illinois</td>\n",
       "      <td>2012-12-31</td>\n",
       "      <td>1551152</td>\n",
       "      <td>2013 (1888)</td>\n",
       "    </tr>\n",
       "    <tr>\n",
       "      <th>4</th>\n",
       "      <td>ACN</td>\n",
       "      <td>Accenture</td>\n",
       "      <td>Information Technology</td>\n",
       "      <td>IT Consulting &amp; Other Services</td>\n",
       "      <td>Dublin, Ireland</td>\n",
       "      <td>2011-07-06</td>\n",
       "      <td>1467373</td>\n",
       "      <td>1989</td>\n",
       "    </tr>\n",
       "  </tbody>\n",
       "</table>\n",
       "</div>"
      ],
      "text/plain": [
       "  Symbol     Security             GICS Sector               GICS Sub-Industry  \\\n",
       "0    MMM           3M             Industrials        Industrial Conglomerates   \n",
       "1    AOS  A. O. Smith             Industrials               Building Products   \n",
       "2    ABT       Abbott             Health Care           Health Care Equipment   \n",
       "3   ABBV       AbbVie             Health Care                 Pharmaceuticals   \n",
       "4    ACN    Accenture  Information Technology  IT Consulting & Other Services   \n",
       "\n",
       "     Headquarters Location  Date added      CIK      Founded  \n",
       "0    Saint Paul, Minnesota  1957-03-04    66740         1902  \n",
       "1     Milwaukee, Wisconsin  2017-07-26    91142         1916  \n",
       "2  North Chicago, Illinois  1957-03-04     1800         1888  \n",
       "3  North Chicago, Illinois  2012-12-31  1551152  2013 (1888)  \n",
       "4          Dublin, Ireland  2011-07-06  1467373         1989  "
      ]
     },
     "execution_count": 2,
     "metadata": {},
     "output_type": "execute_result"
    }
   ],
   "source": [
    "r = requests.get('https://en.wikipedia.org/wiki/List_of_S%26P_500_companies')\n",
    "soup = BeautifulSoup(r.content, 'html.parser')\n",
    "table = pd.read_html(str(soup))\n",
    "companies = table[0]\n",
    "companies.head()"
   ]
  },
  {
   "cell_type": "markdown",
   "id": "6472df7f-9877-4a22-8dfc-4094e8a0f5af",
   "metadata": {},
   "source": [
    "Next, we're going to scrape price information about each company using this website: https://markets.businessinsider.com/index/components/s&p_500\n",
    "However, the information is split up between 10 different pages. So we need to make 10 seperate requests, each one getting information about 50 companies in the S&P 500."
   ]
  },
  {
   "cell_type": "code",
   "execution_count": 3,
   "id": "1714c4b5-0e1b-4728-a218-5571ca062dfd",
   "metadata": {},
   "outputs": [
    {
     "data": {
      "text/html": [
       "<div>\n",
       "<style scoped>\n",
       "    .dataframe tbody tr th:only-of-type {\n",
       "        vertical-align: middle;\n",
       "    }\n",
       "\n",
       "    .dataframe tbody tr th {\n",
       "        vertical-align: top;\n",
       "    }\n",
       "\n",
       "    .dataframe thead th {\n",
       "        text-align: right;\n",
       "    }\n",
       "</style>\n",
       "<table border=\"1\" class=\"dataframe\">\n",
       "  <thead>\n",
       "    <tr style=\"text-align: right;\">\n",
       "      <th></th>\n",
       "      <th>Name</th>\n",
       "      <th>Latest Price Previous Close</th>\n",
       "      <th>Low High</th>\n",
       "      <th>+/- %</th>\n",
       "      <th>Time Date</th>\n",
       "      <th>3 Mo. +/- %</th>\n",
       "      <th>6 Mo. +/- %</th>\n",
       "      <th>1 Year +/- %</th>\n",
       "    </tr>\n",
       "  </thead>\n",
       "  <tbody>\n",
       "    <tr>\n",
       "      <th>470</th>\n",
       "      <td>Wynn Resorts</td>\n",
       "      <td>93.75 93.75</td>\n",
       "      <td>93.00 94.80</td>\n",
       "      <td>-0.13 -0.14%</td>\n",
       "      <td>07:46 PM 19.08.2023</td>\n",
       "      <td>-14.13 -12.97%</td>\n",
       "      <td>-14.22 -13.04%</td>\n",
       "      <td>29.37 44.89%</td>\n",
       "    </tr>\n",
       "    <tr>\n",
       "      <th>471</th>\n",
       "      <td>Xcel Energy</td>\n",
       "      <td>58.11 58.11</td>\n",
       "      <td>58.08 58.65</td>\n",
       "      <td>-0.08 -0.14%</td>\n",
       "      <td>06:52 PM 19.08.2023</td>\n",
       "      <td>-7.87 -11.92%</td>\n",
       "      <td>-9.84 -14.47%</td>\n",
       "      <td>-18.76 -24.39%</td>\n",
       "    </tr>\n",
       "    <tr>\n",
       "      <th>472</th>\n",
       "      <td>Xylem</td>\n",
       "      <td>99.46 99.46</td>\n",
       "      <td>98.41 100.35</td>\n",
       "      <td>0.04 0.04%</td>\n",
       "      <td>04:48 PM 18.08.2023</td>\n",
       "      <td>-4.46 -4.29%</td>\n",
       "      <td>-7.78 -7.25%</td>\n",
       "      <td>-2.83 -2.77%</td>\n",
       "    </tr>\n",
       "    <tr>\n",
       "      <th>473</th>\n",
       "      <td>YUM! Brands</td>\n",
       "      <td>129.12 129.12</td>\n",
       "      <td>128.39 129.93</td>\n",
       "      <td>0.02 0.02%</td>\n",
       "      <td>05:26 PM 18.08.2023</td>\n",
       "      <td>-7.33 -5.34%</td>\n",
       "      <td>-2.12 -1.61%</td>\n",
       "      <td>10.79 9.06%</td>\n",
       "    </tr>\n",
       "    <tr>\n",
       "      <th>474</th>\n",
       "      <td>Zebra Technologies</td>\n",
       "      <td>274.32 274.32</td>\n",
       "      <td>260.81 274.03</td>\n",
       "      <td>2.34 0.86%</td>\n",
       "      <td>06:47 PM 19.08.2023</td>\n",
       "      <td>-5.64 -2.08%</td>\n",
       "      <td>-56.55 -17.53%</td>\n",
       "      <td>-74.42 -21.86%</td>\n",
       "    </tr>\n",
       "  </tbody>\n",
       "</table>\n",
       "</div>"
      ],
      "text/plain": [
       "                   Name Latest Price Previous Close       Low High  \\\n",
       "470        Wynn Resorts                 93.75 93.75    93.00 94.80   \n",
       "471         Xcel Energy                 58.11 58.11    58.08 58.65   \n",
       "472               Xylem                 99.46 99.46   98.41 100.35   \n",
       "473         YUM! Brands               129.12 129.12  128.39 129.93   \n",
       "474  Zebra Technologies               274.32 274.32  260.81 274.03   \n",
       "\n",
       "            +/- %            Time Date     3 Mo. +/- %     6 Mo. +/- %  \\\n",
       "470  -0.13 -0.14%  07:46 PM 19.08.2023  -14.13 -12.97%  -14.22 -13.04%   \n",
       "471  -0.08 -0.14%  06:52 PM 19.08.2023   -7.87 -11.92%   -9.84 -14.47%   \n",
       "472    0.04 0.04%  04:48 PM 18.08.2023    -4.46 -4.29%    -7.78 -7.25%   \n",
       "473    0.02 0.02%  05:26 PM 18.08.2023    -7.33 -5.34%    -2.12 -1.61%   \n",
       "474    2.34 0.86%  06:47 PM 19.08.2023    -5.64 -2.08%  -56.55 -17.53%   \n",
       "\n",
       "       1 Year +/- %  \n",
       "470    29.37 44.89%  \n",
       "471  -18.76 -24.39%  \n",
       "472    -2.83 -2.77%  \n",
       "473     10.79 9.06%  \n",
       "474  -74.42 -21.86%  "
      ]
     },
     "execution_count": 3,
     "metadata": {},
     "output_type": "execute_result"
    }
   ],
   "source": [
    "# List to store individual tables\n",
    "tableList = [] \n",
    "\n",
    "for i in range(1,11):\n",
    "    #Add the page query param to the end of the url\n",
    "    url = 'https://markets.businessinsider.com/index/components/s&p_500?p=' + str(i)\n",
    "    r = requests.get(url)\n",
    "    soup = BeautifulSoup(r.content, 'html.parser')\n",
    "    tables = pd.read_html(str(soup))\n",
    "    # Add the table from this page to the list\n",
    "    tableList.append(tables[0])\n",
    "    \n",
    "# Combine all tables into a single DataFrame\n",
    "combined_table = pd.concat(tableList, ignore_index=True)\n",
    "combined_table.tail()"
   ]
  },
  {
   "cell_type": "code",
   "execution_count": 4,
   "id": "bb222e62-2cee-40aa-be64-00c0173f9960",
   "metadata": {},
   "outputs": [
    {
     "data": {
      "text/html": [
       "<div>\n",
       "<style scoped>\n",
       "    .dataframe tbody tr th:only-of-type {\n",
       "        vertical-align: middle;\n",
       "    }\n",
       "\n",
       "    .dataframe tbody tr th {\n",
       "        vertical-align: top;\n",
       "    }\n",
       "\n",
       "    .dataframe thead th {\n",
       "        text-align: right;\n",
       "    }\n",
       "</style>\n",
       "<table border=\"1\" class=\"dataframe\">\n",
       "  <thead>\n",
       "    <tr style=\"text-align: right;\">\n",
       "      <th></th>\n",
       "      <th>Symbol</th>\n",
       "      <th>Security</th>\n",
       "      <th>GICS Sector</th>\n",
       "      <th>GICS Sub-Industry</th>\n",
       "      <th>Headquarters Location</th>\n",
       "      <th>Date added</th>\n",
       "      <th>CIK</th>\n",
       "      <th>Founded</th>\n",
       "      <th>name</th>\n",
       "      <th>Name</th>\n",
       "      <th>Latest Price Previous Close</th>\n",
       "      <th>Low High</th>\n",
       "      <th>+/- %</th>\n",
       "      <th>Time Date</th>\n",
       "      <th>3 Mo. +/- %</th>\n",
       "      <th>6 Mo. +/- %</th>\n",
       "      <th>1 Year +/- %</th>\n",
       "    </tr>\n",
       "  </thead>\n",
       "  <tbody>\n",
       "    <tr>\n",
       "      <th>500</th>\n",
       "      <td>WYNN</td>\n",
       "      <td>Wynn Resorts</td>\n",
       "      <td>Consumer Discretionary</td>\n",
       "      <td>Casinos &amp; Gaming</td>\n",
       "      <td>Paradise, Nevada</td>\n",
       "      <td>2008-11-14</td>\n",
       "      <td>1174922</td>\n",
       "      <td>2002</td>\n",
       "      <td>wynn</td>\n",
       "      <td>Wynn Resorts</td>\n",
       "      <td>93.75 93.75</td>\n",
       "      <td>93.00 94.80</td>\n",
       "      <td>-0.13 -0.14%</td>\n",
       "      <td>07:46 PM 19.08.2023</td>\n",
       "      <td>-14.13 -12.97%</td>\n",
       "      <td>-14.22 -13.04%</td>\n",
       "      <td>29.37 44.89%</td>\n",
       "    </tr>\n",
       "    <tr>\n",
       "      <th>501</th>\n",
       "      <td>XEL</td>\n",
       "      <td>Xcel Energy</td>\n",
       "      <td>Utilities</td>\n",
       "      <td>Multi-Utilities</td>\n",
       "      <td>Minneapolis, Minnesota</td>\n",
       "      <td>1957-03-04</td>\n",
       "      <td>72903</td>\n",
       "      <td>1909</td>\n",
       "      <td>xcel</td>\n",
       "      <td>Xcel Energy</td>\n",
       "      <td>58.11 58.11</td>\n",
       "      <td>58.08 58.65</td>\n",
       "      <td>-0.08 -0.14%</td>\n",
       "      <td>06:52 PM 19.08.2023</td>\n",
       "      <td>-7.87 -11.92%</td>\n",
       "      <td>-9.84 -14.47%</td>\n",
       "      <td>-18.76 -24.39%</td>\n",
       "    </tr>\n",
       "    <tr>\n",
       "      <th>502</th>\n",
       "      <td>XYL</td>\n",
       "      <td>Xylem Inc.</td>\n",
       "      <td>Industrials</td>\n",
       "      <td>Industrial Machinery &amp; Supplies &amp; Components</td>\n",
       "      <td>White Plains, New York</td>\n",
       "      <td>2011-11-01</td>\n",
       "      <td>1524472</td>\n",
       "      <td>2011</td>\n",
       "      <td>xylem</td>\n",
       "      <td>Xylem</td>\n",
       "      <td>99.46 99.46</td>\n",
       "      <td>98.41 100.35</td>\n",
       "      <td>0.04 0.04%</td>\n",
       "      <td>04:48 PM 18.08.2023</td>\n",
       "      <td>-4.46 -4.29%</td>\n",
       "      <td>-7.78 -7.25%</td>\n",
       "      <td>-2.83 -2.77%</td>\n",
       "    </tr>\n",
       "    <tr>\n",
       "      <th>503</th>\n",
       "      <td>YUM</td>\n",
       "      <td>Yum! Brands</td>\n",
       "      <td>Consumer Discretionary</td>\n",
       "      <td>Restaurants</td>\n",
       "      <td>Louisville, Kentucky</td>\n",
       "      <td>1997-10-06</td>\n",
       "      <td>1041061</td>\n",
       "      <td>1997</td>\n",
       "      <td>yum!</td>\n",
       "      <td>YUM! Brands</td>\n",
       "      <td>129.12 129.12</td>\n",
       "      <td>128.39 129.93</td>\n",
       "      <td>0.02 0.02%</td>\n",
       "      <td>05:26 PM 18.08.2023</td>\n",
       "      <td>-7.33 -5.34%</td>\n",
       "      <td>-2.12 -1.61%</td>\n",
       "      <td>10.79 9.06%</td>\n",
       "    </tr>\n",
       "    <tr>\n",
       "      <th>504</th>\n",
       "      <td>ZBRA</td>\n",
       "      <td>Zebra Technologies</td>\n",
       "      <td>Information Technology</td>\n",
       "      <td>Electronic Equipment &amp; Instruments</td>\n",
       "      <td>Lincolnshire, Illinois</td>\n",
       "      <td>2019-12-23</td>\n",
       "      <td>877212</td>\n",
       "      <td>1969</td>\n",
       "      <td>zebra</td>\n",
       "      <td>Zebra Technologies</td>\n",
       "      <td>274.32 274.32</td>\n",
       "      <td>260.81 274.03</td>\n",
       "      <td>2.34 0.86%</td>\n",
       "      <td>06:47 PM 19.08.2023</td>\n",
       "      <td>-5.64 -2.08%</td>\n",
       "      <td>-56.55 -17.53%</td>\n",
       "      <td>-74.42 -21.86%</td>\n",
       "    </tr>\n",
       "  </tbody>\n",
       "</table>\n",
       "</div>"
      ],
      "text/plain": [
       "    Symbol            Security             GICS Sector  \\\n",
       "500   WYNN        Wynn Resorts  Consumer Discretionary   \n",
       "501    XEL         Xcel Energy               Utilities   \n",
       "502    XYL          Xylem Inc.             Industrials   \n",
       "503    YUM         Yum! Brands  Consumer Discretionary   \n",
       "504   ZBRA  Zebra Technologies  Information Technology   \n",
       "\n",
       "                                GICS Sub-Industry   Headquarters Location  \\\n",
       "500                              Casinos & Gaming        Paradise, Nevada   \n",
       "501                               Multi-Utilities  Minneapolis, Minnesota   \n",
       "502  Industrial Machinery & Supplies & Components  White Plains, New York   \n",
       "503                                   Restaurants    Louisville, Kentucky   \n",
       "504            Electronic Equipment & Instruments  Lincolnshire, Illinois   \n",
       "\n",
       "     Date added      CIK Founded   name                Name  \\\n",
       "500  2008-11-14  1174922    2002   wynn        Wynn Resorts   \n",
       "501  1957-03-04    72903    1909   xcel         Xcel Energy   \n",
       "502  2011-11-01  1524472    2011  xylem               Xylem   \n",
       "503  1997-10-06  1041061    1997   yum!         YUM! Brands   \n",
       "504  2019-12-23   877212    1969  zebra  Zebra Technologies   \n",
       "\n",
       "    Latest Price Previous Close       Low High         +/- %  \\\n",
       "500                 93.75 93.75    93.00 94.80  -0.13 -0.14%   \n",
       "501                 58.11 58.11    58.08 58.65  -0.08 -0.14%   \n",
       "502                 99.46 99.46   98.41 100.35    0.04 0.04%   \n",
       "503               129.12 129.12  128.39 129.93    0.02 0.02%   \n",
       "504               274.32 274.32  260.81 274.03    2.34 0.86%   \n",
       "\n",
       "               Time Date     3 Mo. +/- %     6 Mo. +/- %    1 Year +/- %  \n",
       "500  07:46 PM 19.08.2023  -14.13 -12.97%  -14.22 -13.04%    29.37 44.89%  \n",
       "501  06:52 PM 19.08.2023   -7.87 -11.92%   -9.84 -14.47%  -18.76 -24.39%  \n",
       "502  04:48 PM 18.08.2023    -4.46 -4.29%    -7.78 -7.25%    -2.83 -2.77%  \n",
       "503  05:26 PM 18.08.2023    -7.33 -5.34%    -2.12 -1.61%     10.79 9.06%  \n",
       "504  06:47 PM 19.08.2023    -5.64 -2.08%  -56.55 -17.53%  -74.42 -21.86%  "
      ]
     },
     "execution_count": 4,
     "metadata": {},
     "output_type": "execute_result"
    }
   ],
   "source": [
    "#Standardize the name of each company in both tables by keeping only the first word in the name and converting to lowercase\n",
    "companies['name'] = companies['Security'].str.split().str[0].str.lower()\n",
    "combined_table['name'] = combined_table['Name'].str.split().str[0].str.lower()\n",
    "#Then merge the two tables together\n",
    "merged_data = pd.merge(companies, combined_table, on='name', how='inner')\n",
    "merged_data.tail()"
   ]
  },
  {
   "cell_type": "code",
   "execution_count": 5,
   "id": "6198f30e-f707-4571-9ed5-d34a6094e436",
   "metadata": {},
   "outputs": [
    {
     "data": {
      "text/html": [
       "<div>\n",
       "<style scoped>\n",
       "    .dataframe tbody tr th:only-of-type {\n",
       "        vertical-align: middle;\n",
       "    }\n",
       "\n",
       "    .dataframe tbody tr th {\n",
       "        vertical-align: top;\n",
       "    }\n",
       "\n",
       "    .dataframe thead th {\n",
       "        text-align: right;\n",
       "    }\n",
       "</style>\n",
       "<table border=\"1\" class=\"dataframe\">\n",
       "  <thead>\n",
       "    <tr style=\"text-align: right;\">\n",
       "      <th></th>\n",
       "      <th>Symbol</th>\n",
       "      <th>Security</th>\n",
       "      <th>GICS Sector</th>\n",
       "      <th>GICS Sub-Industry</th>\n",
       "      <th>Headquarters Location</th>\n",
       "      <th>Date added</th>\n",
       "      <th>CIK</th>\n",
       "      <th>Founded</th>\n",
       "      <th>name</th>\n",
       "      <th>Name</th>\n",
       "      <th>Low High</th>\n",
       "      <th>+/- %</th>\n",
       "      <th>Time Date</th>\n",
       "      <th>3 Mo. +/- %</th>\n",
       "      <th>6 Mo. +/- %</th>\n",
       "      <th>1 Year +/- %</th>\n",
       "      <th>Latest Price</th>\n",
       "    </tr>\n",
       "  </thead>\n",
       "  <tbody>\n",
       "    <tr>\n",
       "      <th>0</th>\n",
       "      <td>MMM</td>\n",
       "      <td>3M</td>\n",
       "      <td>Industrials</td>\n",
       "      <td>Industrial Conglomerates</td>\n",
       "      <td>Saint Paul, Minnesota</td>\n",
       "      <td>1957-03-04</td>\n",
       "      <td>66740</td>\n",
       "      <td>1902</td>\n",
       "      <td>3m</td>\n",
       "      <td>3M</td>\n",
       "      <td>99.59 100.49</td>\n",
       "      <td>0.14 0.14%</td>\n",
       "      <td>07:52 PM 19.08.2023</td>\n",
       "      <td>1.58 1.58%</td>\n",
       "      <td>-11.24 -9.95%</td>\n",
       "      <td>-45.67 -30.98%</td>\n",
       "      <td>100.18</td>\n",
       "    </tr>\n",
       "    <tr>\n",
       "      <th>1</th>\n",
       "      <td>ABT</td>\n",
       "      <td>Abbott</td>\n",
       "      <td>Health Care</td>\n",
       "      <td>Health Care Equipment</td>\n",
       "      <td>North Chicago, Illinois</td>\n",
       "      <td>1957-03-04</td>\n",
       "      <td>1800</td>\n",
       "      <td>1888</td>\n",
       "      <td>abbott</td>\n",
       "      <td>Abbott Laboratories</td>\n",
       "      <td>103.28 105.06</td>\n",
       "      <td>0.02 0.02%</td>\n",
       "      <td>07:25 PM 19.08.2023</td>\n",
       "      <td>-3.89 -3.58%</td>\n",
       "      <td>-1.85 -1.73%</td>\n",
       "      <td>-5.62 -5.08%</td>\n",
       "      <td>103.71</td>\n",
       "    </tr>\n",
       "    <tr>\n",
       "      <th>2</th>\n",
       "      <td>ABBV</td>\n",
       "      <td>AbbVie</td>\n",
       "      <td>Health Care</td>\n",
       "      <td>Pharmaceuticals</td>\n",
       "      <td>North Chicago, Illinois</td>\n",
       "      <td>2012-12-31</td>\n",
       "      <td>1551152</td>\n",
       "      <td>2013 (1888)</td>\n",
       "      <td>abbvie</td>\n",
       "      <td>AbbVie</td>\n",
       "      <td>149.23 150.93</td>\n",
       "      <td>-1.13 -0.75%</td>\n",
       "      <td>07:32 PM 19.08.2023</td>\n",
       "      <td>6.62 4.62%</td>\n",
       "      <td>-1.34 -0.89%</td>\n",
       "      <td>8.54 6.04%</td>\n",
       "      <td>149.00</td>\n",
       "    </tr>\n",
       "    <tr>\n",
       "      <th>3</th>\n",
       "      <td>ACN</td>\n",
       "      <td>Accenture</td>\n",
       "      <td>Information Technology</td>\n",
       "      <td>IT Consulting &amp; Other Services</td>\n",
       "      <td>Dublin, Ireland</td>\n",
       "      <td>2011-07-06</td>\n",
       "      <td>1467373</td>\n",
       "      <td>1989</td>\n",
       "      <td>accenture</td>\n",
       "      <td>Accenture</td>\n",
       "      <td>301.35 304.84</td>\n",
       "      <td>0.06 0.02%</td>\n",
       "      <td>07:49 PM 19.08.2023</td>\n",
       "      <td>21.22 7.46%</td>\n",
       "      <td>28.67 10.34%</td>\n",
       "      <td>-12.64 -3.97%</td>\n",
       "      <td>303.04</td>\n",
       "    </tr>\n",
       "    <tr>\n",
       "      <th>4</th>\n",
       "      <td>ATVI</td>\n",
       "      <td>Activision Blizzard</td>\n",
       "      <td>Communication Services</td>\n",
       "      <td>Interactive Home Entertainment</td>\n",
       "      <td>Santa Monica, California</td>\n",
       "      <td>2015-08-31</td>\n",
       "      <td>718877</td>\n",
       "      <td>2008</td>\n",
       "      <td>activision</td>\n",
       "      <td>Activision Blizzard</td>\n",
       "      <td>90.30 91.00</td>\n",
       "      <td>0.23 0.25%</td>\n",
       "      <td>07:51 PM 19.08.2023</td>\n",
       "      <td>12.54 16.10%</td>\n",
       "      <td>12.86 16.58%</td>\n",
       "      <td>9.90 12.29%</td>\n",
       "      <td>90.70</td>\n",
       "    </tr>\n",
       "  </tbody>\n",
       "</table>\n",
       "</div>"
      ],
      "text/plain": [
       "  Symbol             Security             GICS Sector  \\\n",
       "0    MMM                   3M             Industrials   \n",
       "1    ABT               Abbott             Health Care   \n",
       "2   ABBV               AbbVie             Health Care   \n",
       "3    ACN            Accenture  Information Technology   \n",
       "4   ATVI  Activision Blizzard  Communication Services   \n",
       "\n",
       "                GICS Sub-Industry     Headquarters Location  Date added  \\\n",
       "0        Industrial Conglomerates     Saint Paul, Minnesota  1957-03-04   \n",
       "1           Health Care Equipment   North Chicago, Illinois  1957-03-04   \n",
       "2                 Pharmaceuticals   North Chicago, Illinois  2012-12-31   \n",
       "3  IT Consulting & Other Services           Dublin, Ireland  2011-07-06   \n",
       "4  Interactive Home Entertainment  Santa Monica, California  2015-08-31   \n",
       "\n",
       "       CIK      Founded        name                 Name       Low High  \\\n",
       "0    66740         1902          3m                   3M   99.59 100.49   \n",
       "1     1800         1888      abbott  Abbott Laboratories  103.28 105.06   \n",
       "2  1551152  2013 (1888)      abbvie               AbbVie  149.23 150.93   \n",
       "3  1467373         1989   accenture            Accenture  301.35 304.84   \n",
       "4   718877         2008  activision  Activision Blizzard    90.30 91.00   \n",
       "\n",
       "          +/- %            Time Date   3 Mo. +/- %    6 Mo. +/- %  \\\n",
       "0    0.14 0.14%  07:52 PM 19.08.2023    1.58 1.58%  -11.24 -9.95%   \n",
       "1    0.02 0.02%  07:25 PM 19.08.2023  -3.89 -3.58%   -1.85 -1.73%   \n",
       "2  -1.13 -0.75%  07:32 PM 19.08.2023    6.62 4.62%   -1.34 -0.89%   \n",
       "3    0.06 0.02%  07:49 PM 19.08.2023   21.22 7.46%   28.67 10.34%   \n",
       "4    0.23 0.25%  07:51 PM 19.08.2023  12.54 16.10%   12.86 16.58%   \n",
       "\n",
       "     1 Year +/- % Latest Price  \n",
       "0  -45.67 -30.98%       100.18  \n",
       "1    -5.62 -5.08%       103.71  \n",
       "2      8.54 6.04%       149.00  \n",
       "3   -12.64 -3.97%       303.04  \n",
       "4     9.90 12.29%        90.70  "
      ]
     },
     "execution_count": 5,
     "metadata": {},
     "output_type": "execute_result"
    }
   ],
   "source": [
    "#The column for Latest Price Previous Close seems to contain two duplicate values, as the latest price equals\n",
    "#previous close, we'll just keep latest price\n",
    "merged_data[\"Latest Price\"] = merged_data[\"Latest Price Previous Close\"].str.split().str[0]\n",
    "merged_data.drop(columns=['Latest Price Previous Close'], inplace=True)\n",
    "merged_data.head()"
   ]
  },
  {
   "cell_type": "code",
   "execution_count": 6,
   "id": "8e0023cc-5fbd-46c1-a30b-0df93e3cb9db",
   "metadata": {},
   "outputs": [],
   "source": [
    "#Remove some of the other columns so our table is neater\n",
    "columns_to_keep = ['Name', 'Symbol', 'GICS Sector', 'Latest Price', '3 Mo. +/- %', '1 Year +/- %']\n",
    "cleaner_table = merged_data[columns_to_keep]\n",
    "cleaner_table\n",
    "del merged_data"
   ]
  },
  {
   "cell_type": "markdown",
   "id": "8e364988-0d90-446a-bfaf-cb1f167032d7",
   "metadata": {},
   "source": [
    "The columns for 3 Mo. +/- % and 1 Year +/- % represent how much the stock is up or down compared to its price either 3 months ago or 1 year ago.\n",
    "For example, say Activision Blizzard's value for 3 Mo. +/- % is 12.54 16.10%. This means, Activision stock is up 12.54 dollars or 16.1% from its price 3 months."
   ]
  },
  {
   "cell_type": "code",
   "execution_count": 7,
   "id": "0c1beab4-cca8-4cec-be53-e1da6b42ef03",
   "metadata": {},
   "outputs": [
    {
     "data": {
      "text/html": [
       "<div>\n",
       "<style scoped>\n",
       "    .dataframe tbody tr th:only-of-type {\n",
       "        vertical-align: middle;\n",
       "    }\n",
       "\n",
       "    .dataframe tbody tr th {\n",
       "        vertical-align: top;\n",
       "    }\n",
       "\n",
       "    .dataframe thead th {\n",
       "        text-align: right;\n",
       "    }\n",
       "</style>\n",
       "<table border=\"1\" class=\"dataframe\">\n",
       "  <thead>\n",
       "    <tr style=\"text-align: right;\">\n",
       "      <th></th>\n",
       "      <th>Name</th>\n",
       "      <th>Symbol</th>\n",
       "      <th>GICS Sector</th>\n",
       "      <th>Latest Price</th>\n",
       "      <th>3 Mo. Price Change</th>\n",
       "      <th>3 Mo. Percent Change</th>\n",
       "      <th>1 Year Price Change</th>\n",
       "      <th>1 Year Percent Change</th>\n",
       "    </tr>\n",
       "  </thead>\n",
       "  <tbody>\n",
       "    <tr>\n",
       "      <th>0</th>\n",
       "      <td>3M</td>\n",
       "      <td>MMM</td>\n",
       "      <td>Industrials</td>\n",
       "      <td>100.18</td>\n",
       "      <td>1.58</td>\n",
       "      <td>1.58%</td>\n",
       "      <td>-45.67</td>\n",
       "      <td>-30.98%</td>\n",
       "    </tr>\n",
       "    <tr>\n",
       "      <th>1</th>\n",
       "      <td>Abbott Laboratories</td>\n",
       "      <td>ABT</td>\n",
       "      <td>Health Care</td>\n",
       "      <td>103.71</td>\n",
       "      <td>-3.89</td>\n",
       "      <td>-3.58%</td>\n",
       "      <td>-5.62</td>\n",
       "      <td>-5.08%</td>\n",
       "    </tr>\n",
       "    <tr>\n",
       "      <th>2</th>\n",
       "      <td>AbbVie</td>\n",
       "      <td>ABBV</td>\n",
       "      <td>Health Care</td>\n",
       "      <td>149.00</td>\n",
       "      <td>6.62</td>\n",
       "      <td>4.62%</td>\n",
       "      <td>8.54</td>\n",
       "      <td>6.04%</td>\n",
       "    </tr>\n",
       "    <tr>\n",
       "      <th>3</th>\n",
       "      <td>Accenture</td>\n",
       "      <td>ACN</td>\n",
       "      <td>Information Technology</td>\n",
       "      <td>303.04</td>\n",
       "      <td>21.22</td>\n",
       "      <td>7.46%</td>\n",
       "      <td>-12.64</td>\n",
       "      <td>-3.97%</td>\n",
       "    </tr>\n",
       "    <tr>\n",
       "      <th>4</th>\n",
       "      <td>Activision Blizzard</td>\n",
       "      <td>ATVI</td>\n",
       "      <td>Communication Services</td>\n",
       "      <td>90.70</td>\n",
       "      <td>12.54</td>\n",
       "      <td>16.10%</td>\n",
       "      <td>9.90</td>\n",
       "      <td>12.29%</td>\n",
       "    </tr>\n",
       "  </tbody>\n",
       "</table>\n",
       "</div>"
      ],
      "text/plain": [
       "                  Name Symbol             GICS Sector  Latest Price  \\\n",
       "0                   3M    MMM             Industrials        100.18   \n",
       "1  Abbott Laboratories    ABT             Health Care        103.71   \n",
       "2               AbbVie   ABBV             Health Care        149.00   \n",
       "3            Accenture    ACN  Information Technology        303.04   \n",
       "4  Activision Blizzard   ATVI  Communication Services         90.70   \n",
       "\n",
       "  3 Mo. Price Change 3 Mo. Percent Change 1 Year Price Change  \\\n",
       "0               1.58                1.58%              -45.67   \n",
       "1              -3.89               -3.58%               -5.62   \n",
       "2               6.62                4.62%                8.54   \n",
       "3              21.22                7.46%              -12.64   \n",
       "4              12.54               16.10%                9.90   \n",
       "\n",
       "  1 Year Percent Change  \n",
       "0               -30.98%  \n",
       "1                -5.08%  \n",
       "2                 6.04%  \n",
       "3                -3.97%  \n",
       "4                12.29%  "
      ]
     },
     "execution_count": 7,
     "metadata": {},
     "output_type": "execute_result"
    }
   ],
   "source": [
    "#Let's split those values into separate columns\n",
    "\n",
    "#Splitting the 3 month price/percent change into two different columns\n",
    "cleaner_table.loc[:, \"3 Mo. Price Change\"] = cleaner_table[\"3 Mo. +/- %\"].str.split().str[0]\n",
    "cleaner_table.loc[:, \"3 Mo. Percent Change\"] = cleaner_table[\"3 Mo. +/- %\"].str.split().str[1]\n",
    "cleaner_table.drop(columns=['3 Mo. +/- %'], inplace=True)\n",
    "\n",
    "#Splitting the 1 year price/percent change into two different columns\n",
    "cleaner_table.loc[:,\"1 Year Price Change\"] = cleaner_table[\"1 Year +/- %\"].str.split().str[0]\n",
    "cleaner_table.loc[:,\"1 Year Percent Change\"] = cleaner_table[\"1 Year +/- %\"].str.split().str[1]\n",
    "cleaner_table.drop(columns=['1 Year +/- %'], inplace=True)\n",
    "\n",
    "#Convert price from a string to a float\n",
    "cleaner_table['Latest Price'] = cleaner_table['Latest Price'].str.replace(',', '').astype(float)\n",
    "cleaner_table.head()"
   ]
  },
  {
   "cell_type": "markdown",
   "id": "728a8218-b899-498b-8c5d-4e0d36a79f0b",
   "metadata": {},
   "source": [
    "Let's also add each company's market cap, to the table. And to do this we'll need to scrape data from another website including market cap."
   ]
  },
  {
   "cell_type": "code",
   "execution_count": 8,
   "id": "1038ac25-43a6-4faa-90ef-10c259ce23e9",
   "metadata": {},
   "outputs": [
    {
     "data": {
      "text/html": [
       "<div>\n",
       "<style scoped>\n",
       "    .dataframe tbody tr th:only-of-type {\n",
       "        vertical-align: middle;\n",
       "    }\n",
       "\n",
       "    .dataframe tbody tr th {\n",
       "        vertical-align: top;\n",
       "    }\n",
       "\n",
       "    .dataframe thead th {\n",
       "        text-align: right;\n",
       "    }\n",
       "</style>\n",
       "<table border=\"1\" class=\"dataframe\">\n",
       "  <thead>\n",
       "    <tr style=\"text-align: right;\">\n",
       "      <th></th>\n",
       "      <th>Ticker</th>\n",
       "      <th>Description</th>\n",
       "      <th>GICS Sector</th>\n",
       "      <th>Latest Price</th>\n",
       "      <th>Market Capitalization</th>\n",
       "      <th>3 Mo. Price Change</th>\n",
       "      <th>3 Mo. Percent Change</th>\n",
       "      <th>1 Year Price Change</th>\n",
       "      <th>1 Year Percent Change</th>\n",
       "    </tr>\n",
       "  </thead>\n",
       "  <tbody>\n",
       "    <tr>\n",
       "      <th>0</th>\n",
       "      <td>AAPL</td>\n",
       "      <td>Apple Inc.</td>\n",
       "      <td>Information Technology</td>\n",
       "      <td>174.70</td>\n",
       "      <td>2.728017e+12</td>\n",
       "      <td>1.31</td>\n",
       "      <td>0.76%</td>\n",
       "      <td>-0.55</td>\n",
       "      <td>-0.32%</td>\n",
       "    </tr>\n",
       "    <tr>\n",
       "      <th>1</th>\n",
       "      <td>MSFT</td>\n",
       "      <td>Microsoft Corporation</td>\n",
       "      <td>Information Technology</td>\n",
       "      <td>317.00</td>\n",
       "      <td>2.351372e+12</td>\n",
       "      <td>2.88</td>\n",
       "      <td>0.92%</td>\n",
       "      <td>25.56</td>\n",
       "      <td>8.77%</td>\n",
       "    </tr>\n",
       "    <tr>\n",
       "      <th>2</th>\n",
       "      <td>GOOG</td>\n",
       "      <td>Alphabet Inc.</td>\n",
       "      <td>Communication Services</td>\n",
       "      <td>127.63</td>\n",
       "      <td>1.611856e+12</td>\n",
       "      <td>9.08</td>\n",
       "      <td>7.51%</td>\n",
       "      <td>10.37</td>\n",
       "      <td>8.67%</td>\n",
       "    </tr>\n",
       "    <tr>\n",
       "      <th>3</th>\n",
       "      <td>GOOG</td>\n",
       "      <td>Alphabet Inc.</td>\n",
       "      <td>Communication Services</td>\n",
       "      <td>128.24</td>\n",
       "      <td>1.611856e+12</td>\n",
       "      <td>8.98</td>\n",
       "      <td>7.39%</td>\n",
       "      <td>10.14</td>\n",
       "      <td>8.43%</td>\n",
       "    </tr>\n",
       "    <tr>\n",
       "      <th>4</th>\n",
       "      <td>GOOGL</td>\n",
       "      <td>Alphabet Inc.</td>\n",
       "      <td>Communication Services</td>\n",
       "      <td>127.63</td>\n",
       "      <td>1.610344e+12</td>\n",
       "      <td>9.08</td>\n",
       "      <td>7.51%</td>\n",
       "      <td>10.37</td>\n",
       "      <td>8.67%</td>\n",
       "    </tr>\n",
       "  </tbody>\n",
       "</table>\n",
       "</div>"
      ],
      "text/plain": [
       "  Ticker            Description             GICS Sector  Latest Price  \\\n",
       "0   AAPL             Apple Inc.  Information Technology        174.70   \n",
       "1   MSFT  Microsoft Corporation  Information Technology        317.00   \n",
       "2   GOOG          Alphabet Inc.  Communication Services        127.63   \n",
       "3   GOOG          Alphabet Inc.  Communication Services        128.24   \n",
       "4  GOOGL          Alphabet Inc.  Communication Services        127.63   \n",
       "\n",
       "   Market Capitalization 3 Mo. Price Change 3 Mo. Percent Change  \\\n",
       "0           2.728017e+12               1.31                0.76%   \n",
       "1           2.351372e+12               2.88                0.92%   \n",
       "2           1.611856e+12               9.08                7.51%   \n",
       "3           1.611856e+12               8.98                7.39%   \n",
       "4           1.610344e+12               9.08                7.51%   \n",
       "\n",
       "  1 Year Price Change 1 Year Percent Change  \n",
       "0               -0.55                -0.32%  \n",
       "1               25.56                 8.77%  \n",
       "2               10.37                 8.67%  \n",
       "3               10.14                 8.43%  \n",
       "4               10.37                 8.67%  "
      ]
     },
     "execution_count": 8,
     "metadata": {},
     "output_type": "execute_result"
    }
   ],
   "source": [
    "r = requests.get('https://www.liberatedstocktrader.com/sp-500-companies/')\n",
    "soup = BeautifulSoup(r.content, 'html.parser')\n",
    "table = pd.read_html(str(soup))\n",
    "with_marketcap = table[1]\n",
    "with_marketcap.head()\n",
    "\n",
    "#Make the first row, the column names\n",
    "with_marketcap.columns = with_marketcap.iloc[0]\n",
    "with_marketcap = with_marketcap[1:]\n",
    "\n",
    "#Merge the two tables on ticker symbol\n",
    "s_and_p_companies = pd.merge(with_marketcap, cleaner_table, left_on='Ticker', right_on='Symbol', how='inner')\n",
    "\n",
    "#Remove some columns\n",
    "columns_to_keep = ['Ticker', 'Description', 'GICS Sector', 'Latest Price', 'Market Capitalization', '3 Mo. Price Change', '3 Mo. Percent Change','1 Year Price Change', '1 Year Percent Change']\n",
    "companies = s_and_p_companies[columns_to_keep]\n",
    "del s_and_p_companies\n",
    "\n",
    "#Convert market cap from a string to a float\n",
    "companies['Market Capitalization'] = companies['Market Capitalization'].str.replace(',', '').astype(float)\n",
    "companies.head()"
   ]
  },
  {
   "cell_type": "markdown",
   "id": "386c9ad4-9551-4930-8f06-7985433b8228",
   "metadata": {},
   "source": [
    "Next, we're going to read in csv files containing historical prices of SPY (a stock that mimics the S&P 500, equal to value of S&P 500 index divided by 10), NVDA (NVIDIA), and AAPL (Apple). All from https://www.macrotrends.net/ "
   ]
  },
  {
   "cell_type": "code",
   "execution_count": 9,
   "id": "d257ff3a-4d1a-42dd-aacd-624d8c38d0cf",
   "metadata": {},
   "outputs": [],
   "source": [
    "spy = pd.read_csv('SPY.txt')\n",
    "aapl = pd.read_csv('AAPL.txt')\n",
    "nvda = pd.read_csv('NVDA.txt')\n",
    "\n",
    "#Convert dates to datetime\n",
    "spy['date'] = pd.to_datetime(spy['date']) \n",
    "aapl['date'] = pd.to_datetime(aapl['date']) \n",
    "nvda['date'] = pd.to_datetime(nvda['date']) \n",
    "\n",
    "#We'll only consider the closing price on for each day\n",
    "#So convert closing price to float\n",
    "spy['close'] = spy['close'].astype(float)\n",
    "aapl['close'] = aapl['close'].astype(float)\n",
    "nvda['close'] = nvda['close'].astype(float)"
   ]
  },
  {
   "cell_type": "markdown",
   "id": "832e7b93-78b4-4907-b6d6-a3c5d0cccd4e",
   "metadata": {},
   "source": [
    "## Part 2: Data Exploration"
   ]
  },
  {
   "cell_type": "markdown",
   "id": "09d9ab86-af3f-48c1-a0de-3eaeb93797e2",
   "metadata": {},
   "source": [
    "Let's try to understand the distribution of market capitalization, for the different sectors in the S&P 500."
   ]
  },
  {
   "cell_type": "code",
   "execution_count": 10,
   "id": "e0b41da7-77fc-48ce-aa66-efc6fc2efff2",
   "metadata": {},
   "outputs": [
    {
     "data": {
      "image/png": "[encoded data removed]",
      "text/plain": [
       "<Figure size 640x480 with 1 Axes>"
      ]
     },
     "metadata": {},
     "output_type": "display_data"
    },
    {
     "data": {
      "image/png": "[encoded data removed]",
      "text/plain": [
       "<Figure size 640x480 with 1 Axes>"
      ]
     },
     "metadata": {},
     "output_type": "display_data"
    },
    {
     "data": {
      "image/png": "[encoded data removed]",
      "text/plain": [
       "<Figure size 640x480 with 1 Axes>"
      ]
     },
     "metadata": {},
     "output_type": "display_data"
    },
    {
     "data": {
      "image/png": "[encoded data removed]",
      "text/plain": [
       "<Figure size 640x480 with 1 Axes>"
      ]
     },
     "metadata": {},
     "output_type": "display_data"
    },
    {
     "data": {
      "image/png": "[encoded data removed]",
      "text/plain": [
       "<Figure size 640x480 with 1 Axes>"
      ]
     },
     "metadata": {},
     "output_type": "display_data"
    },
    {
     "data": {
      "image/png": "[encoded data removed]",
      "text/plain": [
       "<Figure size 640x480 with 1 Axes>"
      ]
     },
     "metadata": {},
     "output_type": "display_data"
    },
    {
     "data": {
      "image/png": "[encoded data removed]",
      "text/plain": [
       "<Figure size 640x480 with 1 Axes>"
      ]
     },
     "metadata": {},
     "output_type": "display_data"
    },
    {
     "data": {
      "image/png": "[encoded data removed]",
      "text/plain": [
       "<Figure size 640x480 with 1 Axes>"
      ]
     },
     "metadata": {},
     "output_type": "display_data"
    },
    {
     "data": {
      "image/png": "[encoded data removed]",
      "text/plain": [
       "<Figure size 640x480 with 1 Axes>"
      ]
     },
     "metadata": {},
     "output_type": "display_data"
    },
    {
     "data": {
      "image/png": "[encoded data removed]",
      "text/plain": [
       "<Figure size 640x480 with 1 Axes>"
      ]
     },
     "metadata": {},
     "output_type": "display_data"
    },
    {
     "data": {
      "image/png": "[encoded data removed]",
      "text/plain": [
       "<Figure size 640x480 with 1 Axes>"
      ]
     },
     "metadata": {},
     "output_type": "display_data"
    }
   ],
   "source": [
    "#Get list of unique sectors\n",
    "sectors = companies[\"GICS Sector\"].unique()\n",
    "\n",
    "#Make a boxplot for each sector showing distribution of market cap\n",
    "for sector in sectors:\n",
    "    current_sector = companies[companies[\"GICS Sector\"] == sector]\n",
    "    plt.boxplot(current_sector['Market Capitalization'])\n",
    "    plt.title(sector)\n",
    "    plt.ylabel(\"Market Cap\")\n",
    "    plt.show()"
   ]
  },
  {
   "cell_type": "markdown",
   "id": "f4b7a105-d63c-4f7d-b4a4-979bf57ff1bf",
   "metadata": {},
   "source": [
    "Based on these boxplots, one thing that immediately jumps out is that for the industries Information Technology, Communication Services, and Consumer Discretionary market capitalization is heavily skewed to the upside and contains many outliers, so let's look into that. And see which companies dominate the S&P 500 in terms of market cap."
   ]
  },
  {
   "cell_type": "code",
   "execution_count": 11,
   "id": "d7560c89-be21-4e89-af1b-bceba849050a",
   "metadata": {},
   "outputs": [
    {
     "data": {
      "text/html": [
       "<div>\n",
       "<style scoped>\n",
       "    .dataframe tbody tr th:only-of-type {\n",
       "        vertical-align: middle;\n",
       "    }\n",
       "\n",
       "    .dataframe tbody tr th {\n",
       "        vertical-align: top;\n",
       "    }\n",
       "\n",
       "    .dataframe thead th {\n",
       "        text-align: right;\n",
       "    }\n",
       "</style>\n",
       "<table border=\"1\" class=\"dataframe\">\n",
       "  <thead>\n",
       "    <tr style=\"text-align: right;\">\n",
       "      <th></th>\n",
       "      <th>Ticker</th>\n",
       "      <th>Description</th>\n",
       "      <th>GICS Sector</th>\n",
       "      <th>Latest Price</th>\n",
       "      <th>Market Capitalization</th>\n",
       "      <th>3 Mo. Price Change</th>\n",
       "      <th>3 Mo. Percent Change</th>\n",
       "      <th>1 Year Price Change</th>\n",
       "      <th>1 Year Percent Change</th>\n",
       "    </tr>\n",
       "  </thead>\n",
       "  <tbody>\n",
       "    <tr>\n",
       "      <th>0</th>\n",
       "      <td>AAPL</td>\n",
       "      <td>Apple Inc.</td>\n",
       "      <td>Information Technology</td>\n",
       "      <td>174.70</td>\n",
       "      <td>2.728017e+12</td>\n",
       "      <td>1.31</td>\n",
       "      <td>0.76%</td>\n",
       "      <td>-0.55</td>\n",
       "      <td>-0.32%</td>\n",
       "    </tr>\n",
       "    <tr>\n",
       "      <th>1</th>\n",
       "      <td>MSFT</td>\n",
       "      <td>Microsoft Corporation</td>\n",
       "      <td>Information Technology</td>\n",
       "      <td>317.00</td>\n",
       "      <td>2.351372e+12</td>\n",
       "      <td>2.88</td>\n",
       "      <td>0.92%</td>\n",
       "      <td>25.56</td>\n",
       "      <td>8.77%</td>\n",
       "    </tr>\n",
       "    <tr>\n",
       "      <th>7</th>\n",
       "      <td>NVDA</td>\n",
       "      <td>NVIDIA Corporation</td>\n",
       "      <td>Information Technology</td>\n",
       "      <td>435.00</td>\n",
       "      <td>1.069485e+12</td>\n",
       "      <td>131.66</td>\n",
       "      <td>43.63%</td>\n",
       "      <td>250.09</td>\n",
       "      <td>136.40%</td>\n",
       "    </tr>\n",
       "    <tr>\n",
       "      <th>20</th>\n",
       "      <td>AVGO</td>\n",
       "      <td>Broadcom Inc.</td>\n",
       "      <td>Information Technology</td>\n",
       "      <td>826.52</td>\n",
       "      <td>3.408121e+11</td>\n",
       "      <td>169.63</td>\n",
       "      <td>25.80%</td>\n",
       "      <td>288.51</td>\n",
       "      <td>53.57%</td>\n",
       "    </tr>\n",
       "    <tr>\n",
       "      <th>22</th>\n",
       "      <td>ORCL</td>\n",
       "      <td>Oracle Corporation</td>\n",
       "      <td>Information Technology</td>\n",
       "      <td>116.67</td>\n",
       "      <td>3.161026e+11</td>\n",
       "      <td>15.11</td>\n",
       "      <td>15.15%</td>\n",
       "      <td>35.63</td>\n",
       "      <td>44.96%</td>\n",
       "    </tr>\n",
       "  </tbody>\n",
       "</table>\n",
       "</div>"
      ],
      "text/plain": [
       "   Ticker            Description             GICS Sector  Latest Price  \\\n",
       "0    AAPL             Apple Inc.  Information Technology        174.70   \n",
       "1    MSFT  Microsoft Corporation  Information Technology        317.00   \n",
       "7    NVDA     NVIDIA Corporation  Information Technology        435.00   \n",
       "20   AVGO          Broadcom Inc.  Information Technology        826.52   \n",
       "22   ORCL     Oracle Corporation  Information Technology        116.67   \n",
       "\n",
       "    Market Capitalization 3 Mo. Price Change 3 Mo. Percent Change  \\\n",
       "0            2.728017e+12               1.31                0.76%   \n",
       "1            2.351372e+12               2.88                0.92%   \n",
       "7            1.069485e+12             131.66               43.63%   \n",
       "20           3.408121e+11             169.63               25.80%   \n",
       "22           3.161026e+11              15.11               15.15%   \n",
       "\n",
       "   1 Year Price Change 1 Year Percent Change  \n",
       "0                -0.55                -0.32%  \n",
       "1                25.56                 8.77%  \n",
       "7               250.09               136.40%  \n",
       "20              288.51                53.57%  \n",
       "22               35.63                44.96%  "
      ]
     },
     "execution_count": 11,
     "metadata": {},
     "output_type": "execute_result"
    }
   ],
   "source": [
    "#Get all companies in the Information Technology sector, and sort from highest to lowest market cap\n",
    "information = companies[companies[\"GICS Sector\"] == \"Information Technology\"].sort_values(by='Market Capitalization', ascending=False)\n",
    "information.head()"
   ]
  },
  {
   "cell_type": "code",
   "execution_count": 12,
   "id": "6c9716e0-6551-46ef-a1de-76a1d29eb9ad",
   "metadata": {},
   "outputs": [
    {
     "data": {
      "text/html": [
       "<div>\n",
       "<style scoped>\n",
       "    .dataframe tbody tr th:only-of-type {\n",
       "        vertical-align: middle;\n",
       "    }\n",
       "\n",
       "    .dataframe tbody tr th {\n",
       "        vertical-align: top;\n",
       "    }\n",
       "\n",
       "    .dataframe thead th {\n",
       "        text-align: right;\n",
       "    }\n",
       "</style>\n",
       "<table border=\"1\" class=\"dataframe\">\n",
       "  <thead>\n",
       "    <tr style=\"text-align: right;\">\n",
       "      <th></th>\n",
       "      <th>Ticker</th>\n",
       "      <th>Description</th>\n",
       "      <th>GICS Sector</th>\n",
       "      <th>Latest Price</th>\n",
       "      <th>Market Capitalization</th>\n",
       "      <th>3 Mo. Price Change</th>\n",
       "      <th>3 Mo. Percent Change</th>\n",
       "      <th>1 Year Price Change</th>\n",
       "      <th>1 Year Percent Change</th>\n",
       "    </tr>\n",
       "  </thead>\n",
       "  <tbody>\n",
       "    <tr>\n",
       "      <th>2</th>\n",
       "      <td>GOOG</td>\n",
       "      <td>Alphabet Inc.</td>\n",
       "      <td>Communication Services</td>\n",
       "      <td>127.63</td>\n",
       "      <td>1.611856e+12</td>\n",
       "      <td>9.08</td>\n",
       "      <td>7.51%</td>\n",
       "      <td>10.37</td>\n",
       "      <td>8.67%</td>\n",
       "    </tr>\n",
       "    <tr>\n",
       "      <th>9</th>\n",
       "      <td>META</td>\n",
       "      <td>Meta Platforms, Inc.</td>\n",
       "      <td>Communication Services</td>\n",
       "      <td>283.17</td>\n",
       "      <td>7.289672e+11</td>\n",
       "      <td>42.61</td>\n",
       "      <td>17.57%</td>\n",
       "      <td>110.24</td>\n",
       "      <td>63.05%</td>\n",
       "    </tr>\n",
       "    <tr>\n",
       "      <th>38</th>\n",
       "      <td>CMCSA</td>\n",
       "      <td>Comcast Corporation</td>\n",
       "      <td>Communication Services</td>\n",
       "      <td>45.60</td>\n",
       "      <td>1.887661e+11</td>\n",
       "      <td>5.95</td>\n",
       "      <td>14.77%</td>\n",
       "      <td>6.98</td>\n",
       "      <td>17.78%</td>\n",
       "    </tr>\n",
       "    <tr>\n",
       "      <th>42</th>\n",
       "      <td>NFLX</td>\n",
       "      <td>Netflix, Inc.</td>\n",
       "      <td>Communication Services</td>\n",
       "      <td>404.51</td>\n",
       "      <td>1.792662e+11</td>\n",
       "      <td>63.04</td>\n",
       "      <td>18.54%</td>\n",
       "      <td>161.85</td>\n",
       "      <td>67.12%</td>\n",
       "    </tr>\n",
       "    <tr>\n",
       "      <th>44</th>\n",
       "      <td>TMUS</td>\n",
       "      <td>T-Mobile US, Inc.</td>\n",
       "      <td>Communication Services</td>\n",
       "      <td>135.96</td>\n",
       "      <td>1.601629e+11</td>\n",
       "      <td>-5.21</td>\n",
       "      <td>-3.68%</td>\n",
       "      <td>-9.18</td>\n",
       "      <td>-6.31%</td>\n",
       "    </tr>\n",
       "  </tbody>\n",
       "</table>\n",
       "</div>"
      ],
      "text/plain": [
       "   Ticker           Description             GICS Sector  Latest Price  \\\n",
       "2    GOOG         Alphabet Inc.  Communication Services        127.63   \n",
       "9    META  Meta Platforms, Inc.  Communication Services        283.17   \n",
       "38  CMCSA   Comcast Corporation  Communication Services         45.60   \n",
       "42   NFLX         Netflix, Inc.  Communication Services        404.51   \n",
       "44   TMUS     T-Mobile US, Inc.  Communication Services        135.96   \n",
       "\n",
       "    Market Capitalization 3 Mo. Price Change 3 Mo. Percent Change  \\\n",
       "2            1.611856e+12               9.08                7.51%   \n",
       "9            7.289672e+11              42.61               17.57%   \n",
       "38           1.887661e+11               5.95               14.77%   \n",
       "42           1.792662e+11              63.04               18.54%   \n",
       "44           1.601629e+11              -5.21               -3.68%   \n",
       "\n",
       "   1 Year Price Change 1 Year Percent Change  \n",
       "2                10.37                 8.67%  \n",
       "9               110.24                63.05%  \n",
       "38                6.98                17.78%  \n",
       "42              161.85                67.12%  \n",
       "44               -9.18                -6.31%  "
      ]
     },
     "execution_count": 12,
     "metadata": {},
     "output_type": "execute_result"
    }
   ],
   "source": [
    "#Get all companies in the Communication Services sector, and sort from highest to lowest market cap\n",
    "communication = companies[companies[\"GICS Sector\"] == \"Communication Services\"].sort_values(by='Market Capitalization', ascending=False)\n",
    "\n",
    "#We have some duplicate observations that'll we drop, and Google has two classes for its stock, and we'll only look at one of them (they're essentially the same)\n",
    "indices_to_remove = [3, 4, 5]  # List of row indices to remove\n",
    "communication = communication.drop(indices_to_remove)\n",
    "communication.head()"
   ]
  },
  {
   "cell_type": "code",
   "execution_count": 13,
   "id": "579ccd37-718c-40fe-aac3-32bdd2acbb41",
   "metadata": {},
   "outputs": [
    {
     "data": {
      "text/html": [
       "<div>\n",
       "<style scoped>\n",
       "    .dataframe tbody tr th:only-of-type {\n",
       "        vertical-align: middle;\n",
       "    }\n",
       "\n",
       "    .dataframe tbody tr th {\n",
       "        vertical-align: top;\n",
       "    }\n",
       "\n",
       "    .dataframe thead th {\n",
       "        text-align: right;\n",
       "    }\n",
       "</style>\n",
       "<table border=\"1\" class=\"dataframe\">\n",
       "  <thead>\n",
       "    <tr style=\"text-align: right;\">\n",
       "      <th></th>\n",
       "      <th>Ticker</th>\n",
       "      <th>Description</th>\n",
       "      <th>GICS Sector</th>\n",
       "      <th>Latest Price</th>\n",
       "      <th>Market Capitalization</th>\n",
       "      <th>3 Mo. Price Change</th>\n",
       "      <th>3 Mo. Percent Change</th>\n",
       "      <th>1 Year Price Change</th>\n",
       "      <th>1 Year Percent Change</th>\n",
       "    </tr>\n",
       "  </thead>\n",
       "  <tbody>\n",
       "    <tr>\n",
       "      <th>6</th>\n",
       "      <td>AMZN</td>\n",
       "      <td>Amazon.com, Inc.</td>\n",
       "      <td>Consumer Discretionary</td>\n",
       "      <td>133.30</td>\n",
       "      <td>1.366884e+12</td>\n",
       "      <td>18.48</td>\n",
       "      <td>16.00%</td>\n",
       "      <td>-8.12</td>\n",
       "      <td>-5.71%</td>\n",
       "    </tr>\n",
       "    <tr>\n",
       "      <th>21</th>\n",
       "      <td>HD</td>\n",
       "      <td>Home Depot, Inc. (The)</td>\n",
       "      <td>Consumer Discretionary</td>\n",
       "      <td>327.50</td>\n",
       "      <td>3.291300e+11</td>\n",
       "      <td>34.96</td>\n",
       "      <td>11.96%</td>\n",
       "      <td>1.60</td>\n",
       "      <td>0.49%</td>\n",
       "    </tr>\n",
       "    <tr>\n",
       "      <th>35</th>\n",
       "      <td>MCD</td>\n",
       "      <td>McDonald’s Corporation</td>\n",
       "      <td>Consumer Discretionary</td>\n",
       "      <td>281.69</td>\n",
       "      <td>2.053218e+11</td>\n",
       "      <td>-11.69</td>\n",
       "      <td>-3.98%</td>\n",
       "      <td>14.92</td>\n",
       "      <td>5.59%</td>\n",
       "    </tr>\n",
       "    <tr>\n",
       "      <th>62</th>\n",
       "      <td>LOW</td>\n",
       "      <td>Lowe’s Companies, Inc.</td>\n",
       "      <td>Consumer Discretionary</td>\n",
       "      <td>218.25</td>\n",
       "      <td>1.285349e+11</td>\n",
       "      <td>10.80</td>\n",
       "      <td>5.21%</td>\n",
       "      <td>2.67</td>\n",
       "      <td>1.24%</td>\n",
       "    </tr>\n",
       "    <tr>\n",
       "      <th>79</th>\n",
       "      <td>SBUX</td>\n",
       "      <td>Starbucks Corporation</td>\n",
       "      <td>Consumer Discretionary</td>\n",
       "      <td>97.23</td>\n",
       "      <td>1.113672e+11</td>\n",
       "      <td>-9.12</td>\n",
       "      <td>-8.63%</td>\n",
       "      <td>8.22</td>\n",
       "      <td>9.30%</td>\n",
       "    </tr>\n",
       "  </tbody>\n",
       "</table>\n",
       "</div>"
      ],
      "text/plain": [
       "   Ticker             Description             GICS Sector  Latest Price  \\\n",
       "6    AMZN        Amazon.com, Inc.  Consumer Discretionary        133.30   \n",
       "21     HD  Home Depot, Inc. (The)  Consumer Discretionary        327.50   \n",
       "35    MCD  McDonald’s Corporation  Consumer Discretionary        281.69   \n",
       "62    LOW  Lowe’s Companies, Inc.  Consumer Discretionary        218.25   \n",
       "79   SBUX   Starbucks Corporation  Consumer Discretionary         97.23   \n",
       "\n",
       "    Market Capitalization 3 Mo. Price Change 3 Mo. Percent Change  \\\n",
       "6            1.366884e+12              18.48               16.00%   \n",
       "21           3.291300e+11              34.96               11.96%   \n",
       "35           2.053218e+11             -11.69               -3.98%   \n",
       "62           1.285349e+11              10.80                5.21%   \n",
       "79           1.113672e+11              -9.12               -8.63%   \n",
       "\n",
       "   1 Year Price Change 1 Year Percent Change  \n",
       "6                -8.12                -5.71%  \n",
       "21                1.60                 0.49%  \n",
       "35               14.92                 5.59%  \n",
       "62                2.67                 1.24%  \n",
       "79                8.22                 9.30%  "
      ]
     },
     "execution_count": 13,
     "metadata": {},
     "output_type": "execute_result"
    }
   ],
   "source": [
    "#Get all companies in the Consumer Discretionary sector, and sort from highest to lowest market cap\n",
    "consumer_discre = companies[companies[\"GICS Sector\"] == \"Consumer Discretionary\"].sort_values(by='Market Capitalization', ascending=False)\n",
    "consumer_discre.head()"
   ]
  },
  {
   "cell_type": "markdown",
   "id": "e213a6a9-0de3-47e6-b325-7b9cbca2747b",
   "metadata": {},
   "source": [
    "From these tables, we can that the most promenient companies in the S&P 500 are: Apple, Microsoft, Alphabhet (Google), Amazon, and NVIDIA, in that order in terms of market capitalization, as we previously mentioned in the introduction. \n",
    "\n",
    "Next, for the three biggest sectors in the S&P 500: Information Technology, Communication Services, and Consumer Discretionary, let's look at the price change in the past year (y-axis) plotted against current share price (x-axis)."
   ]
  },
  {
   "cell_type": "code",
   "execution_count": 14,
   "id": "4059d1f0-4b9d-4b34-a91b-017d2e3fcd63",
   "metadata": {},
   "outputs": [
    {
     "data": {
      "image/png": "[encoded data removed]",
      "text/plain": [
       "<Figure size 640x480 with 1 Axes>"
      ]
     },
     "metadata": {},
     "output_type": "display_data"
    }
   ],
   "source": [
    "#Convert column from string to float\n",
    "information[\"1 Year Price Change\"] = information[\"1 Year Price Change\"].astype(float)\n",
    "\n",
    "#For the Information Technology sector, make a scatterplot with price on x-axis, price-change in past year on y-axis.\n",
    "plt.scatter(information[\"Latest Price\"], information[\"1 Year Price Change\"], color='blue', marker='o', label='Data Points')\n",
    "plt.title(\"Information Technology Sector\")\n",
    "plt.xlabel(\"Price\")\n",
    "plt.ylabel(\"Price Change in Past Year\")\n",
    "plt.ylim(-200, 300)\n",
    "plt.show()"
   ]
  },
  {
   "cell_type": "code",
   "execution_count": 15,
   "id": "d4ccf79c-cde3-4c5f-91a1-cec7ba77e752",
   "metadata": {},
   "outputs": [
    {
     "data": {
      "image/png": "[encoded data removed]",
      "text/plain": [
       "<Figure size 640x480 with 1 Axes>"
      ]
     },
     "metadata": {},
     "output_type": "display_data"
    }
   ],
   "source": [
    "#For the Communication Services sector, make a scatterplot with price on x-axis, price-change in past year on y-axis.\n",
    "communication[\"1 Year Price Change\"] = communication[\"1 Year Price Change\"].astype(float)\n",
    "plt.scatter(communication[\"Latest Price\"], communication[\"1 Year Price Change\"], color='blue', marker='o', label='Data Points')\n",
    "plt.title(\"Communication Services Sector\")\n",
    "plt.xlabel(\"Price\")\n",
    "plt.ylabel(\"Price Change in Past Year\")\n",
    "plt.ylim(-200, 300)\n",
    "plt.show()"
   ]
  },
  {
   "cell_type": "code",
   "execution_count": 16,
   "id": "cc03b7be-5545-4034-b9d0-e7269b987fc8",
   "metadata": {},
   "outputs": [
    {
     "data": {
      "image/png": "[encoded data removed]",
      "text/plain": [
       "<Figure size 640x480 with 1 Axes>"
      ]
     },
     "metadata": {},
     "output_type": "display_data"
    }
   ],
   "source": [
    "#For the Consumer Discretionary sector, make a scatterplot with price on x-axis, price-change in past year on y-axis.\n",
    "consumer_discre[\"1 Year Price Change\"] = consumer_discre[\"1 Year Price Change\"].astype(float)\n",
    "plt.scatter(consumer_discre[\"Latest Price\"], consumer_discre[\"1 Year Price Change\"], color='blue', marker='o', label='Data Points')\n",
    "plt.title(\"Consumer Discretionary Sector\")\n",
    "plt.xlabel(\"Price\")\n",
    "plt.ylabel(\"Price Change in Past Year\")\n",
    "plt.ylim(-200, 300)\n",
    "plt.show()"
   ]
  },
  {
   "cell_type": "markdown",
   "id": "8d263144-1f3b-4878-8b48-bd9b7c1266ed",
   "metadata": {},
   "source": [
    "From these plots of price change in the past year vs current price, we see that overall, companies in all 3 sectors on average have increased their share prices. The information sector appears to be performing the best. Let's do this again, but look at percent change instead of price change for just the information sector. "
   ]
  },
  {
   "cell_type": "code",
   "execution_count": 17,
   "id": "66b829b5-0593-4783-b2f2-bc68cd106d31",
   "metadata": {},
   "outputs": [
    {
     "data": {
      "image/png": "[encoded data removed]",
      "text/plain": [
       "<Figure size 640x480 with 1 Axes>"
      ]
     },
     "metadata": {},
     "output_type": "display_data"
    }
   ],
   "source": [
    "#Convert 1 Year Percent Change to a float\n",
    "information[\"1 Year Percent Change\"] = information[\"1 Year Percent Change\"].str.replace('%', '').astype(float)\n",
    "\n",
    "#For the Information Technology sector, make a scatterplot with price on x-axis, percent price change in past year on y-axis.\n",
    "plt.scatter(information[\"Latest Price\"], information[\"1 Year Percent Change\"], color='blue', marker='o', label='Data Points')\n",
    "plt.title(\"Information Technology Sector\")\n",
    "plt.xlabel(\"Price\")\n",
    "plt.ylabel(\"Percent Price Change in Past Year\")\n",
    "plt.show()"
   ]
  },
  {
   "cell_type": "markdown",
   "id": "3614648c-cc0b-47b1-aacc-019c4eda459b",
   "metadata": {},
   "source": [
    "From this plot of percent price change vs price for the information technology sector, there are two things to note.\n",
    "There is a positive trend: companies that have a higher price tend to increase their stock price by a greater percent.\n",
    "Secondly, there is one extreme outlier that we should take a look at."
   ]
  },
  {
   "cell_type": "code",
   "execution_count": 18,
   "id": "6f4315bb-11ec-4319-a13a-c553fd0476af",
   "metadata": {},
   "outputs": [
    {
     "data": {
      "text/html": [
       "<div>\n",
       "<style scoped>\n",
       "    .dataframe tbody tr th:only-of-type {\n",
       "        vertical-align: middle;\n",
       "    }\n",
       "\n",
       "    .dataframe tbody tr th {\n",
       "        vertical-align: top;\n",
       "    }\n",
       "\n",
       "    .dataframe thead th {\n",
       "        text-align: right;\n",
       "    }\n",
       "</style>\n",
       "<table border=\"1\" class=\"dataframe\">\n",
       "  <thead>\n",
       "    <tr style=\"text-align: right;\">\n",
       "      <th></th>\n",
       "      <th>Ticker</th>\n",
       "      <th>Description</th>\n",
       "      <th>GICS Sector</th>\n",
       "      <th>Latest Price</th>\n",
       "      <th>Market Capitalization</th>\n",
       "      <th>3 Mo. Price Change</th>\n",
       "      <th>3 Mo. Percent Change</th>\n",
       "      <th>1 Year Price Change</th>\n",
       "      <th>1 Year Percent Change</th>\n",
       "    </tr>\n",
       "  </thead>\n",
       "  <tbody>\n",
       "    <tr>\n",
       "      <th>7</th>\n",
       "      <td>NVDA</td>\n",
       "      <td>NVIDIA Corporation</td>\n",
       "      <td>Information Technology</td>\n",
       "      <td>435.00</td>\n",
       "      <td>1.069485e+12</td>\n",
       "      <td>131.66</td>\n",
       "      <td>43.63%</td>\n",
       "      <td>250.09</td>\n",
       "      <td>136.40</td>\n",
       "    </tr>\n",
       "    <tr>\n",
       "      <th>20</th>\n",
       "      <td>AVGO</td>\n",
       "      <td>Broadcom Inc.</td>\n",
       "      <td>Information Technology</td>\n",
       "      <td>826.52</td>\n",
       "      <td>3.408121e+11</td>\n",
       "      <td>169.63</td>\n",
       "      <td>25.80%</td>\n",
       "      <td>288.51</td>\n",
       "      <td>53.57</td>\n",
       "    </tr>\n",
       "    <tr>\n",
       "      <th>22</th>\n",
       "      <td>ORCL</td>\n",
       "      <td>Oracle Corporation</td>\n",
       "      <td>Information Technology</td>\n",
       "      <td>116.67</td>\n",
       "      <td>3.161026e+11</td>\n",
       "      <td>15.11</td>\n",
       "      <td>15.15%</td>\n",
       "      <td>35.63</td>\n",
       "      <td>44.96</td>\n",
       "    </tr>\n",
       "    <tr>\n",
       "      <th>151</th>\n",
       "      <td>ANET</td>\n",
       "      <td>Arista Networks, Inc.</td>\n",
       "      <td>Information Technology</td>\n",
       "      <td>181.00</td>\n",
       "      <td>5.589168e+10</td>\n",
       "      <td>46.86</td>\n",
       "      <td>34.50%</td>\n",
       "      <td>53.28</td>\n",
       "      <td>41.17</td>\n",
       "    </tr>\n",
       "    <tr>\n",
       "      <th>98</th>\n",
       "      <td>LRCX</td>\n",
       "      <td>Lam Research Corporation</td>\n",
       "      <td>Information Technology</td>\n",
       "      <td>669.00</td>\n",
       "      <td>8.652219e+10</td>\n",
       "      <td>74.45</td>\n",
       "      <td>12.97%</td>\n",
       "      <td>151.00</td>\n",
       "      <td>30.35</td>\n",
       "    </tr>\n",
       "  </tbody>\n",
       "</table>\n",
       "</div>"
      ],
      "text/plain": [
       "    Ticker               Description             GICS Sector  Latest Price  \\\n",
       "7     NVDA        NVIDIA Corporation  Information Technology        435.00   \n",
       "20    AVGO             Broadcom Inc.  Information Technology        826.52   \n",
       "22    ORCL        Oracle Corporation  Information Technology        116.67   \n",
       "151   ANET     Arista Networks, Inc.  Information Technology        181.00   \n",
       "98    LRCX  Lam Research Corporation  Information Technology        669.00   \n",
       "\n",
       "     Market Capitalization 3 Mo. Price Change 3 Mo. Percent Change  \\\n",
       "7             1.069485e+12             131.66               43.63%   \n",
       "20            3.408121e+11             169.63               25.80%   \n",
       "22            3.161026e+11              15.11               15.15%   \n",
       "151           5.589168e+10              46.86               34.50%   \n",
       "98            8.652219e+10              74.45               12.97%   \n",
       "\n",
       "     1 Year Price Change  1 Year Percent Change  \n",
       "7                 250.09                 136.40  \n",
       "20                288.51                  53.57  \n",
       "22                 35.63                  44.96  \n",
       "151                53.28                  41.17  \n",
       "98                151.00                  30.35  "
      ]
     },
     "execution_count": 18,
     "metadata": {},
     "output_type": "execute_result"
    }
   ],
   "source": [
    "information_sorted = information.sort_values(by='1 Year Percent Change', ascending=False)\n",
    "information_sorted.head()"
   ]
  },
  {
   "cell_type": "markdown",
   "id": "c22ce9ec-72ef-43a3-819d-a5da3a7d1561",
   "metadata": {},
   "source": [
    "Nvidia current share price is 136.40% higher than its price one year ago. By far the greatest increase out of all stocks in the information technology sector. Let's plot NVIDIA's share price over time."
   ]
  },
  {
   "cell_type": "code",
   "execution_count": 19,
   "id": "3a5c5614-bd16-43ad-a1b6-2823a35a4d3c",
   "metadata": {},
   "outputs": [
    {
     "data": {
      "text/plain": [
       "Text(0.5, 1.0, 'NVIDIA share price')"
      ]
     },
     "execution_count": 19,
     "metadata": {},
     "output_type": "execute_result"
    },
    {
     "data": {
      "image/png": "[encoded data removed]",
      "text/plain": [
       "<Figure size 640x480 with 1 Axes>"
      ]
     },
     "metadata": {},
     "output_type": "display_data"
    }
   ],
   "source": [
    "#The table \"nvda\" holds price information about NVIDIA including date and closing share price (close)\n",
    "#Line plot of NVIDIA's closing price for the day on y-axis, and date on x-axis \n",
    "plt.plot(nvda[\"date\"], nvda[\"close\"], color='blue', label='Line Plot')\n",
    "plt.xlabel('Date')\n",
    "plt.ylabel('Price')\n",
    "plt.title('NVIDIA share price')"
   ]
  },
  {
   "cell_type": "markdown",
   "id": "63a5e459-f880-4f13-bb49-b1e20a812db0",
   "metadata": {},
   "source": [
    "And let's compare this plot to that of Apple (the largest company in the S&P 500) and the entire S&P 500 as a whole."
   ]
  },
  {
   "cell_type": "code",
   "execution_count": 20,
   "id": "f0d092f0-bf25-4286-b493-1e5d7e350447",
   "metadata": {},
   "outputs": [
    {
     "data": {
      "text/plain": [
       "Text(0.5, 1.0, 'Apple share price')"
      ]
     },
     "execution_count": 20,
     "metadata": {},
     "output_type": "execute_result"
    },
    {
     "data": {
      "image/png": "[encoded data removed]",
      "text/plain": [
       "<Figure size 640x480 with 1 Axes>"
      ]
     },
     "metadata": {},
     "output_type": "display_data"
    }
   ],
   "source": [
    "#The table \"aapl\" holds price information about Apple including date and closing share price (close)\n",
    "#Line plot of Apple's closing price for the day on y-axis, and date on x-axis \n",
    "plt.plot(aapl[\"date\"], aapl[\"close\"], color='blue', label='Line Plot')\n",
    "plt.xlabel('Date')\n",
    "plt.ylabel('Price')\n",
    "plt.title('Apple share price')"
   ]
  },
  {
   "cell_type": "code",
   "execution_count": 21,
   "id": "ff603a13-58f6-4794-b66e-8afbb54c2efd",
   "metadata": {},
   "outputs": [
    {
     "data": {
      "text/plain": [
       "Text(0.5, 1.0, 'SPY (S&P 500) share price')"
      ]
     },
     "execution_count": 21,
     "metadata": {},
     "output_type": "execute_result"
    },
    {
     "data": {
      "image/png": "[encoded data removed]",
      "text/plain": [
       "<Figure size 640x480 with 1 Axes>"
      ]
     },
     "metadata": {},
     "output_type": "display_data"
    }
   ],
   "source": [
    "#The table \"spy\" holds price information about SPY (S&P 500) including date and closing share price (close)\n",
    "#Line plot ofSPY (S&P 500) closing price for the day on y-axis, and date on x-axis \n",
    "plt.plot(spy[\"date\"], spy[\"close\"], color='blue', label='Line Plot')\n",
    "plt.xlabel('Date')\n",
    "plt.ylabel('Price')\n",
    "plt.title('SPY (S&P 500) share price')"
   ]
  },
  {
   "cell_type": "markdown",
   "id": "8b3bc7f7-cce6-41bf-b489-e8ce7b1932b1",
   "metadata": {},
   "source": [
    "From these plots, Apple and Nvidia's stock price appear to have increased more dramatically over time compared to that of the rest of the S&P 500. "
   ]
  },
  {
   "cell_type": "markdown",
   "id": "6ba3fcd2-8ada-4fcb-b92a-29a4d1df6b1c",
   "metadata": {},
   "source": [
    "## Part 3: Hypothesis Testing and Machine Learning"
   ]
  },
  {
   "cell_type": "markdown",
   "id": "09584300-1289-49d7-b73f-47b6401b0056",
   "metadata": {},
   "source": [
    "First we're going to create a linear regression model for SPY (S&P 500), Apple, and Nvidia to get an idea of the trend for these stock prices. \n",
    "Linear regression is used to model a relationship dependent variable and independent variable(s). And it used to predict values of unknown data. \n",
    "For our case, we will be using linear regression to find the correlation between the year and a stock's price, and we could use this to predict future stock prices based on past years (learn more about linear regression here https://www.statisticssolutions.com/free-resources/directory-of-statistical-analyses/what-is-linear-regression/) "
   ]
  },
  {
   "cell_type": "code",
   "execution_count": 22,
   "id": "a0eca41e-2da2-4d78-9606-ea3ebf232d60",
   "metadata": {
    "scrolled": true
   },
   "outputs": [],
   "source": [
    "spy2 = spy.copy()\n",
    "#Convert date back to string\n",
    "spy2[\"date\"] = spy2[\"date\"].dt.strftime('%Y-%m-%d')\n",
    "#Keep only the year for the date\n",
    "spy2[\"date\"] = spy2[\"date\"].str.split(\"-\").str[0]\n",
    "spy2[\"date\"] = spy2[\"date\"].astype(int)"
   ]
  },
  {
   "cell_type": "code",
   "execution_count": 23,
   "id": "20f4402a-b566-4e46-b9d7-2f06b65c6f59",
   "metadata": {},
   "outputs": [],
   "source": [
    "from sklearn.linear_model import LinearRegression\n",
    "\n",
    "#Get date and closing price information ready for linear regression model\n",
    "x = spy2[\"date\"] \n",
    "y = spy2[\"close\"]\n",
    "x = x.to_numpy().reshape(-1,1)\n",
    "\n",
    "#Fit the linear regression model using date as indepedent variable, and closing price (close) as dependent variable\n",
    "model = LinearRegression().fit(x,y)\n",
    "\n",
    "#Get slope and intercept for SPY prices over time\n",
    "b = model.intercept_\n",
    "m = model.coef_[0]"
   ]
  },
  {
   "cell_type": "code",
   "execution_count": 24,
   "id": "4502200b-9455-4ada-99b0-4a88fc37c6ac",
   "metadata": {
    "scrolled": true
   },
   "outputs": [
    {
     "data": {
      "text/plain": [
       "[<matplotlib.lines.Line2D at 0x7fabf89f1b90>]"
      ]
     },
     "execution_count": 24,
     "metadata": {},
     "output_type": "execute_result"
    },
    {
     "data": {
      "image/png": "[encoded data removed]",
      "text/plain": [
       "<Figure size 640x480 with 1 Axes>"
      ]
     },
     "metadata": {},
     "output_type": "display_data"
    }
   ],
   "source": [
    "#Plot of date (year only) on x-axis, and price on y-axis for SPY\n",
    "plt.plot(spy2[\"date\"], spy2[\"close\"], color='blue', label='Line Plot')\n",
    "plt.xlabel('Date')\n",
    "plt.ylabel('Price')\n",
    "plt.title('SPY (S&P 500) share price')\n",
    "\n",
    "#Include the linear regression line to the plot\n",
    "plt.plot(spy2[\"date\"], m*spy2[\"date\"]+b)"
   ]
  },
  {
   "cell_type": "code",
   "execution_count": 25,
   "id": "e3946142-f22a-4500-8a92-1be58d54f0e2",
   "metadata": {},
   "outputs": [
    {
     "name": "stdout",
     "output_type": "stream",
     "text": [
      "10.699733115465424\n"
     ]
    }
   ],
   "source": [
    "print(m)"
   ]
  },
  {
   "cell_type": "markdown",
   "id": "0968f750-2bb4-44ea-bcbc-305a0db2094d",
   "metadata": {},
   "source": [
    "Based on the slope of the linear regression equation, every year, the value of the S&P 500 index is predicted to gain 10.7 dollars."
   ]
  },
  {
   "cell_type": "code",
   "execution_count": 26,
   "id": "d704d68c-f23a-454b-9dc7-ac859e38fc4c",
   "metadata": {},
   "outputs": [
    {
     "name": "stdout",
     "output_type": "stream",
     "text": [
      "376.4758466510284\n"
     ]
    }
   ],
   "source": [
    "#Let's forcast for the year 2030 using our model\n",
    "print(m*2030 + b)"
   ]
  },
  {
   "cell_type": "markdown",
   "id": "0a8192c4-f581-4f87-88c9-dbe4ed1f2b94",
   "metadata": {},
   "source": [
    "From this we see that the predicted price in 2030 will 376.5 dollars. However, the current price of the SPY is already above that. \n",
    "From the above line graph we see that the growth of the S&P 500 has increased in recent years. So, let's consider a different time frame for linear regression model and do it again."
   ]
  },
  {
   "cell_type": "code",
   "execution_count": 27,
   "id": "bfc9fe47-3bc5-4873-b8a1-e6abb96fd5b8",
   "metadata": {
    "scrolled": true
   },
   "outputs": [
    {
     "data": {
      "text/plain": [
       "[<matplotlib.lines.Line2D at 0x7fabf8a6cc90>]"
      ]
     },
     "execution_count": 27,
     "metadata": {},
     "output_type": "execute_result"
    },
    {
     "data": {
      "image/png": "[encoded data removed]",
      "text/plain": [
       "<Figure size 640x480 with 1 Axes>"
      ]
     },
     "metadata": {},
     "output_type": "display_data"
    }
   ],
   "source": [
    "#Keep only the years after 2008\n",
    "spy3 = spy2.copy()\n",
    "spy3 = spy3[spy3[\"date\"] > 2007]\n",
    "\n",
    "#Make linear regression model again, and get intercept and slope\n",
    "x = spy3[\"date\"]\n",
    "y = spy3[\"close\"]\n",
    "\n",
    "x = x.to_numpy().reshape(-1,1)\n",
    "model = LinearRegression().fit(x,y)\n",
    "b = model.intercept_\n",
    "m = model.coef_[0]\n",
    "\n",
    "#Plot the price vs date for this new timeframe (2008 and later)\n",
    "plt.plot(spy3[\"date\"], spy3[\"close\"], color='blue', label='Line Plot')\n",
    "plt.xlabel('Date')\n",
    "plt.ylabel('Price')\n",
    "plt.title('SPY (S&P 500) share price')\n",
    "\n",
    "#Plot regression line for our updated model\n",
    "plt.plot(spy3[\"date\"], m*spy3[\"date\"]+b)"
   ]
  },
  {
   "cell_type": "code",
   "execution_count": 28,
   "id": "1dd64b67-1e7e-4589-bc46-c4394393a571",
   "metadata": {},
   "outputs": [
    {
     "name": "stdout",
     "output_type": "stream",
     "text": [
      "23.974545667816784\n"
     ]
    }
   ],
   "source": [
    "print(m)"
   ]
  },
  {
   "cell_type": "markdown",
   "id": "c40e5bf3-dc00-49f1-bc7f-8bf3c4ffcdd9",
   "metadata": {},
   "source": [
    "Based on this model, looking at a different timeframe, the SPY is projected to increase by 24 dollars a year.  "
   ]
  },
  {
   "cell_type": "code",
   "execution_count": 29,
   "id": "77e55a65-e270-4e8a-af4b-92886e1980df",
   "metadata": {},
   "outputs": [
    {
     "name": "stdout",
     "output_type": "stream",
     "text": [
      "560.2452416732194\n"
     ]
    }
   ],
   "source": [
    "print(m*2030 + b)"
   ]
  },
  {
   "cell_type": "markdown",
   "id": "ecedadc4-ce81-405b-80cc-83f8178978bc",
   "metadata": {},
   "source": [
    "And the projected price of the spy in 2030 this time is 560.25 dollars.\n",
    "Let's generate a linear regression model Apple as well."
   ]
  },
  {
   "cell_type": "code",
   "execution_count": 30,
   "id": "dac12552-579a-419e-a976-2cd1bb4076db",
   "metadata": {},
   "outputs": [],
   "source": [
    "aapl2 = aapl.copy()\n",
    "#Convert date back to string\n",
    "aapl2[\"date\"] = aapl2[\"date\"].dt.strftime('%Y-%m-%d')\n",
    "#Keep only the year for the date\n",
    "aapl2[\"date\"] = aapl2[\"date\"].str.split(\"-\").str[0]\n",
    "aapl2[\"date\"] = aapl2[\"date\"].astype(int)"
   ]
  },
  {
   "cell_type": "code",
   "execution_count": 31,
   "id": "a9284cce-9580-424b-95a3-185054c3f21f",
   "metadata": {},
   "outputs": [
    {
     "data": {
      "text/plain": [
       "[<matplotlib.lines.Line2D at 0x7fabf89826d0>]"
      ]
     },
     "execution_count": 31,
     "metadata": {},
     "output_type": "execute_result"
    },
    {
     "data": {
      "image/png": "[encoded data removed]",
      "text/plain": [
       "<Figure size 640x480 with 1 Axes>"
      ]
     },
     "metadata": {},
     "output_type": "display_data"
    }
   ],
   "source": [
    "#Keep only the years after 2008\n",
    "aapl2 = aapl2[aapl2[\"date\"] > 2007]\n",
    "\n",
    "#Make linear regression model again\n",
    "x = aapl2[\"date\"]\n",
    "y = aapl2[\"close\"]\n",
    "x = x.to_numpy().reshape(-1,1)\n",
    "model = LinearRegression().fit(x,y)\n",
    "\n",
    "#Get slope and intercept\n",
    "b = model.intercept_\n",
    "m = model.coef_[0]\n",
    "\n",
    "#Plot of date on x-axis, and price on y-axis for Apple\n",
    "plt.plot(aapl2[\"date\"], aapl2[\"close\"], color='blue', label='Line Plot')\n",
    "plt.xlabel('Date')\n",
    "plt.ylabel('Price')\n",
    "plt.title('Apple share price')\n",
    "#Include linear regression line\n",
    "plt.plot(aapl2[\"date\"], m*aapl2[\"date\"]+b)"
   ]
  },
  {
   "cell_type": "code",
   "execution_count": 32,
   "id": "46232007-8ad4-4585-ac66-0ca371319ecd",
   "metadata": {},
   "outputs": [
    {
     "name": "stdout",
     "output_type": "stream",
     "text": [
      "9.919473519752874\n"
     ]
    }
   ],
   "source": [
    "print(m)"
   ]
  },
  {
   "cell_type": "markdown",
   "id": "c3de0c7c-2e22-484a-ae93-d624465711dc",
   "metadata": {},
   "source": [
    "Based on this linear regression model, the share price of Apple is projected to increased by 9.9 dollars every year."
   ]
  },
  {
   "cell_type": "code",
   "execution_count": 33,
   "id": "bb9223a6-9c39-40a9-8a7f-05e5b177bad7",
   "metadata": {},
   "outputs": [
    {
     "name": "stdout",
     "output_type": "stream",
     "text": [
      "193.8236350857951\n"
     ]
    }
   ],
   "source": [
    "print(m*2030 + b)"
   ]
  },
  {
   "cell_type": "markdown",
   "id": "c63b03b4-33a5-4878-8178-b0eec834b6df",
   "metadata": {},
   "source": [
    "In 2030, the projected share price is 193.8 dollars.\n",
    "\n",
    "Next, let's perform the K-Nearest Neighbors algorithm on our S&P 500 companies. Our goal will be to find companies that are most similar to a company of our choosing. The features we will be using are: the latest price, market cap, percent price change in past 3 months, and percent price change in the past year. The idea is that we want to identify companies that are similar in price and price activity. The K-Nearest Neighbors algorithm is a supervised machine learning algorithm that uses a distance metric to make classifications. In our case we want the KNN algorithm to find the most similar or a group of similar companies. Learn more about the KNN algoirthm here https://www.ibm.com/topics/knn#:~:text=Next%20steps-,K%2DNearest%20Neighbors%20Algorithm,of%20an%20individual%20data%20point. "
   ]
  },
  {
   "cell_type": "code",
   "execution_count": 34,
   "id": "de3971f5-ee88-4742-9833-40b5745deb43",
   "metadata": {
    "scrolled": true
   },
   "outputs": [],
   "source": [
    "#Convert columns to type float\n",
    "companies[\"Latest Price\"] = companies[\"Latest Price\"].astype(float)\n",
    "companies[\"Market Capitalization\"] = companies[\"Market Capitalization\"].astype(float)\n",
    "companies[\"1 Year Percent Change\"] = companies[\"1 Year Percent Change\"].str.replace(\"%\", \"\").astype(float)\n",
    "companies[\"3 Mo. Percent Change\"] = companies[\"3 Mo. Percent Change\"].str.replace(\"%\", \"\").astype(float)"
   ]
  },
  {
   "cell_type": "code",
   "execution_count": 35,
   "id": "272aba9a-799a-4e68-a186-e9d0fd141744",
   "metadata": {},
   "outputs": [
    {
     "data": {
      "text/html": [
       "<div>\n",
       "<style scoped>\n",
       "    .dataframe tbody tr th:only-of-type {\n",
       "        vertical-align: middle;\n",
       "    }\n",
       "\n",
       "    .dataframe tbody tr th {\n",
       "        vertical-align: top;\n",
       "    }\n",
       "\n",
       "    .dataframe thead th {\n",
       "        text-align: right;\n",
       "    }\n",
       "</style>\n",
       "<table border=\"1\" class=\"dataframe\">\n",
       "  <thead>\n",
       "    <tr style=\"text-align: right;\">\n",
       "      <th></th>\n",
       "      <th>Ticker</th>\n",
       "      <th>Description</th>\n",
       "      <th>GICS Sector</th>\n",
       "      <th>Latest Price</th>\n",
       "      <th>Market Capitalization</th>\n",
       "      <th>3 Mo. Percent Change</th>\n",
       "      <th>1 Year Percent Change</th>\n",
       "    </tr>\n",
       "  </thead>\n",
       "  <tbody>\n",
       "    <tr>\n",
       "      <th>0</th>\n",
       "      <td>AAPL</td>\n",
       "      <td>Apple Inc.</td>\n",
       "      <td>Information Technology</td>\n",
       "      <td>174.70</td>\n",
       "      <td>2.728017e+12</td>\n",
       "      <td>0.76</td>\n",
       "      <td>-0.32</td>\n",
       "    </tr>\n",
       "    <tr>\n",
       "      <th>1</th>\n",
       "      <td>MSFT</td>\n",
       "      <td>Microsoft Corporation</td>\n",
       "      <td>Information Technology</td>\n",
       "      <td>317.00</td>\n",
       "      <td>2.351372e+12</td>\n",
       "      <td>0.92</td>\n",
       "      <td>8.77</td>\n",
       "    </tr>\n",
       "    <tr>\n",
       "      <th>2</th>\n",
       "      <td>GOOG</td>\n",
       "      <td>Alphabet Inc.</td>\n",
       "      <td>Communication Services</td>\n",
       "      <td>127.63</td>\n",
       "      <td>1.611856e+12</td>\n",
       "      <td>7.51</td>\n",
       "      <td>8.67</td>\n",
       "    </tr>\n",
       "    <tr>\n",
       "      <th>3</th>\n",
       "      <td>AMZN</td>\n",
       "      <td>Amazon.com, Inc.</td>\n",
       "      <td>Consumer Discretionary</td>\n",
       "      <td>133.30</td>\n",
       "      <td>1.366884e+12</td>\n",
       "      <td>16.00</td>\n",
       "      <td>-5.71</td>\n",
       "    </tr>\n",
       "    <tr>\n",
       "      <th>4</th>\n",
       "      <td>NVDA</td>\n",
       "      <td>NVIDIA Corporation</td>\n",
       "      <td>Information Technology</td>\n",
       "      <td>435.00</td>\n",
       "      <td>1.069485e+12</td>\n",
       "      <td>43.63</td>\n",
       "      <td>136.40</td>\n",
       "    </tr>\n",
       "  </tbody>\n",
       "</table>\n",
       "</div>"
      ],
      "text/plain": [
       "  Ticker            Description             GICS Sector  Latest Price  \\\n",
       "0   AAPL             Apple Inc.  Information Technology        174.70   \n",
       "1   MSFT  Microsoft Corporation  Information Technology        317.00   \n",
       "2   GOOG          Alphabet Inc.  Communication Services        127.63   \n",
       "3   AMZN       Amazon.com, Inc.  Consumer Discretionary        133.30   \n",
       "4   NVDA     NVIDIA Corporation  Information Technology        435.00   \n",
       "\n",
       "   Market Capitalization  3 Mo. Percent Change  1 Year Percent Change  \n",
       "0           2.728017e+12                  0.76                  -0.32  \n",
       "1           2.351372e+12                  0.92                   8.77  \n",
       "2           1.611856e+12                  7.51                   8.67  \n",
       "3           1.366884e+12                 16.00                  -5.71  \n",
       "4           1.069485e+12                 43.63                 136.40  "
      ]
     },
     "execution_count": 35,
     "metadata": {},
     "output_type": "execute_result"
    }
   ],
   "source": [
    "#Drop some other columns\n",
    "columns_to_drop = [\"3 Mo. Price Change\", \"1 Year Price Change\"]\n",
    "companies = companies.drop(columns=columns_to_drop)\n",
    "companies\n",
    "\n",
    "#Drop duplicate rows of google \n",
    "rows_to_drop = [3, 4, 5]\n",
    "companies = companies.drop(index=rows_to_drop)\n",
    "companies = companies.reset_index(drop=True)\n",
    "companies.head()"
   ]
  },
  {
   "cell_type": "code",
   "execution_count": 36,
   "id": "4ecb8af0-e416-4ea4-afdf-c2579a9fbb00",
   "metadata": {},
   "outputs": [
    {
     "data": {
      "text/html": [
       "<style>#sk-container-id-1 {color: black;}#sk-container-id-1 pre{padding: 0;}#sk-container-id-1 div.sk-toggleable {background-color: white;}#sk-container-id-1 label.sk-toggleable__label {cursor: pointer;display: block;width: 100%;margin-bottom: 0;padding: 0.3em;box-sizing: border-box;text-align: center;}#sk-container-id-1 label.sk-toggleable__label-arrow:before {content: \"▸\";float: left;margin-right: 0.25em;color: #696969;}#sk-container-id-1 label.sk-toggleable__label-arrow:hover:before {color: black;}#sk-container-id-1 div.sk-estimator:hover label.sk-toggleable__label-arrow:before {color: black;}#sk-container-id-1 div.sk-toggleable__content {max-height: 0;max-width: 0;overflow: hidden;text-align: left;background-color: #f0f8ff;}#sk-container-id-1 div.sk-toggleable__content pre {margin: 0.2em;color: black;border-radius: 0.25em;background-color: #f0f8ff;}#sk-container-id-1 input.sk-toggleable__control:checked~div.sk-toggleable__content {max-height: 200px;max-width: 100%;overflow: auto;}#sk-container-id-1 input.sk-toggleable__control:checked~label.sk-toggleable__label-arrow:before {content: \"▾\";}#sk-container-id-1 div.sk-estimator input.sk-toggleable__control:checked~label.sk-toggleable__label {background-color: #d4ebff;}#sk-container-id-1 div.sk-label input.sk-toggleable__control:checked~label.sk-toggleable__label {background-color: #d4ebff;}#sk-container-id-1 input.sk-hidden--visually {border: 0;clip: rect(1px 1px 1px 1px);clip: rect(1px, 1px, 1px, 1px);height: 1px;margin: -1px;overflow: hidden;padding: 0;position: absolute;width: 1px;}#sk-container-id-1 div.sk-estimator {font-family: monospace;background-color: #f0f8ff;border: 1px dotted black;border-radius: 0.25em;box-sizing: border-box;margin-bottom: 0.5em;}#sk-container-id-1 div.sk-estimator:hover {background-color: #d4ebff;}#sk-container-id-1 div.sk-parallel-item::after {content: \"\";width: 100%;border-bottom: 1px solid gray;flex-grow: 1;}#sk-container-id-1 div.sk-label:hover label.sk-toggleable__label {background-color: #d4ebff;}#sk-container-id-1 div.sk-serial::before {content: \"\";position: absolute;border-left: 1px solid gray;box-sizing: border-box;top: 0;bottom: 0;left: 50%;z-index: 0;}#sk-container-id-1 div.sk-serial {display: flex;flex-direction: column;align-items: center;background-color: white;padding-right: 0.2em;padding-left: 0.2em;position: relative;}#sk-container-id-1 div.sk-item {position: relative;z-index: 1;}#sk-container-id-1 div.sk-parallel {display: flex;align-items: stretch;justify-content: center;background-color: white;position: relative;}#sk-container-id-1 div.sk-item::before, #sk-container-id-1 div.sk-parallel-item::before {content: \"\";position: absolute;border-left: 1px solid gray;box-sizing: border-box;top: 0;bottom: 0;left: 50%;z-index: -1;}#sk-container-id-1 div.sk-parallel-item {display: flex;flex-direction: column;z-index: 1;position: relative;background-color: white;}#sk-container-id-1 div.sk-parallel-item:first-child::after {align-self: flex-end;width: 50%;}#sk-container-id-1 div.sk-parallel-item:last-child::after {align-self: flex-start;width: 50%;}#sk-container-id-1 div.sk-parallel-item:only-child::after {width: 0;}#sk-container-id-1 div.sk-dashed-wrapped {border: 1px dashed gray;margin: 0 0.4em 0.5em 0.4em;box-sizing: border-box;padding-bottom: 0.4em;background-color: white;}#sk-container-id-1 div.sk-label label {font-family: monospace;font-weight: bold;display: inline-block;line-height: 1.2em;}#sk-container-id-1 div.sk-label-container {text-align: center;}#sk-container-id-1 div.sk-container {/* jupyter's `normalize.less` sets `[hidden] { display: none; }` but bootstrap.min.css set `[hidden] { display: none !important; }` so we also need the `!important` here to be able to override the default hidden behavior on the sphinx rendered scikit-learn.org. See: https://github.com/scikit-learn/scikit-learn/issues/21755 */display: inline-block !important;position: relative;}#sk-container-id-1 div.sk-text-repr-fallback {display: none;}</style><div id=\"sk-container-id-1\" class=\"sk-top-container\"><div class=\"sk-text-repr-fallback\"><pre>NearestNeighbors(metric=&#x27;euclidean&#x27;, n_neighbors=4)</pre><b>In a Jupyter environment, please rerun this cell to show the HTML representation or trust the notebook. <br />On GitHub, the HTML representation is unable to render, please try loading this page with nbviewer.org.</b></div><div class=\"sk-container\" hidden><div class=\"sk-item\"><div class=\"sk-estimator sk-toggleable\"><input class=\"sk-toggleable__control sk-hidden--visually\" id=\"sk-estimator-id-1\" type=\"checkbox\" checked><label for=\"sk-estimator-id-1\" class=\"sk-toggleable__label sk-toggleable__label-arrow\">NearestNeighbors</label><div class=\"sk-toggleable__content\"><pre>NearestNeighbors(metric=&#x27;euclidean&#x27;, n_neighbors=4)</pre></div></div></div></div></div>"
      ],
      "text/plain": [
       "NearestNeighbors(metric='euclidean', n_neighbors=4)"
      ]
     },
     "execution_count": 36,
     "metadata": {},
     "output_type": "execute_result"
    }
   ],
   "source": [
    "from sklearn.neighbors import NearestNeighbors\n",
    "from sklearn.preprocessing import StandardScaler\n",
    "\n",
    "#Select features we want to compare\n",
    "features = [\"Latest Price\",\"Market Capitalization\" ,\"3 Mo. Percent Change\", \"1 Year Percent Change\"]\n",
    "X = companies[features].values #Matrix containing each company and their features\n",
    "\n",
    "#Scale our features\n",
    "scaler = StandardScaler()\n",
    "X_scaled = scaler.fit_transform(X)\n",
    "X_scaled\n",
    "\n",
    "#Set number of neighbors\n",
    "k = 4\n",
    "\n",
    "# Apply the KNN algorithm\n",
    "knn = NearestNeighbors(n_neighbors=k, metric='euclidean')\n",
    "knn.fit(X_scaled)"
   ]
  },
  {
   "cell_type": "code",
   "execution_count": 37,
   "id": "3a6af722-5256-4402-bade-ed3fe05f5f97",
   "metadata": {},
   "outputs": [
    {
     "data": {
      "text/html": [
       "<div>\n",
       "<style scoped>\n",
       "    .dataframe tbody tr th:only-of-type {\n",
       "        vertical-align: middle;\n",
       "    }\n",
       "\n",
       "    .dataframe tbody tr th {\n",
       "        vertical-align: top;\n",
       "    }\n",
       "\n",
       "    .dataframe thead th {\n",
       "        text-align: right;\n",
       "    }\n",
       "</style>\n",
       "<table border=\"1\" class=\"dataframe\">\n",
       "  <thead>\n",
       "    <tr style=\"text-align: right;\">\n",
       "      <th></th>\n",
       "      <th>Ticker</th>\n",
       "      <th>Description</th>\n",
       "      <th>GICS Sector</th>\n",
       "      <th>Latest Price</th>\n",
       "      <th>Market Capitalization</th>\n",
       "      <th>3 Mo. Percent Change</th>\n",
       "      <th>1 Year Percent Change</th>\n",
       "    </tr>\n",
       "  </thead>\n",
       "  <tbody>\n",
       "    <tr>\n",
       "      <th>0</th>\n",
       "      <td>AAPL</td>\n",
       "      <td>Apple Inc.</td>\n",
       "      <td>Information Technology</td>\n",
       "      <td>174.70</td>\n",
       "      <td>2.728017e+12</td>\n",
       "      <td>0.76</td>\n",
       "      <td>-0.32</td>\n",
       "    </tr>\n",
       "    <tr>\n",
       "      <th>1</th>\n",
       "      <td>MSFT</td>\n",
       "      <td>Microsoft Corporation</td>\n",
       "      <td>Information Technology</td>\n",
       "      <td>317.00</td>\n",
       "      <td>2.351372e+12</td>\n",
       "      <td>0.92</td>\n",
       "      <td>8.77</td>\n",
       "    </tr>\n",
       "    <tr>\n",
       "      <th>2</th>\n",
       "      <td>GOOG</td>\n",
       "      <td>Alphabet Inc.</td>\n",
       "      <td>Communication Services</td>\n",
       "      <td>127.63</td>\n",
       "      <td>1.611856e+12</td>\n",
       "      <td>7.51</td>\n",
       "      <td>8.67</td>\n",
       "    </tr>\n",
       "    <tr>\n",
       "      <th>3</th>\n",
       "      <td>AMZN</td>\n",
       "      <td>Amazon.com, Inc.</td>\n",
       "      <td>Consumer Discretionary</td>\n",
       "      <td>133.30</td>\n",
       "      <td>1.366884e+12</td>\n",
       "      <td>16.00</td>\n",
       "      <td>-5.71</td>\n",
       "    </tr>\n",
       "  </tbody>\n",
       "</table>\n",
       "</div>"
      ],
      "text/plain": [
       "  Ticker            Description             GICS Sector  Latest Price  \\\n",
       "0   AAPL             Apple Inc.  Information Technology        174.70   \n",
       "1   MSFT  Microsoft Corporation  Information Technology        317.00   \n",
       "2   GOOG          Alphabet Inc.  Communication Services        127.63   \n",
       "3   AMZN       Amazon.com, Inc.  Consumer Discretionary        133.30   \n",
       "\n",
       "   Market Capitalization  3 Mo. Percent Change  1 Year Percent Change  \n",
       "0           2.728017e+12                  0.76                  -0.32  \n",
       "1           2.351372e+12                  0.92                   8.77  \n",
       "2           1.611856e+12                  7.51                   8.67  \n",
       "3           1.366884e+12                 16.00                  -5.71  "
      ]
     },
     "execution_count": 37,
     "metadata": {},
     "output_type": "execute_result"
    }
   ],
   "source": [
    "# Find similar companies to Apple (index 0 in our table)\n",
    "apple = companies.loc[0, features]  \n",
    "\n",
    "#Scale apple's features and apply knn\n",
    "apple_scaled = scaler.transform(apple.values.reshape(1, -1))\n",
    "distances, indices = knn.kneighbors(apple_scaled)\n",
    "\n",
    "# Get the similar companies\n",
    "similar_companies_indices = indices.flatten()  \n",
    "similar_companies = companies.loc[similar_companies_indices, :]\n",
    "similar_companies"
   ]
  },
  {
   "cell_type": "markdown",
   "id": "d4f134e2-4e9c-4c5c-9af8-7f199b74200f",
   "metadata": {},
   "source": [
    "We found that the companies most similar to Apple are Microsoft, Alphabet (Google), and Amazon. This shouldn't be much of a suprise as they are the largest big tech companies. They have the highest market caps, high prices (above $100). I'm curious if the results would be different if market cap isn't a feature that the KNN algorithms considers, so let's try that."
   ]
  },
  {
   "cell_type": "code",
   "execution_count": 38,
   "id": "315a11c3-948c-4d9b-836f-da57a27364a3",
   "metadata": {},
   "outputs": [
    {
     "data": {
      "text/html": [
       "<style>#sk-container-id-2 {color: black;}#sk-container-id-2 pre{padding: 0;}#sk-container-id-2 div.sk-toggleable {background-color: white;}#sk-container-id-2 label.sk-toggleable__label {cursor: pointer;display: block;width: 100%;margin-bottom: 0;padding: 0.3em;box-sizing: border-box;text-align: center;}#sk-container-id-2 label.sk-toggleable__label-arrow:before {content: \"▸\";float: left;margin-right: 0.25em;color: #696969;}#sk-container-id-2 label.sk-toggleable__label-arrow:hover:before {color: black;}#sk-container-id-2 div.sk-estimator:hover label.sk-toggleable__label-arrow:before {color: black;}#sk-container-id-2 div.sk-toggleable__content {max-height: 0;max-width: 0;overflow: hidden;text-align: left;background-color: #f0f8ff;}#sk-container-id-2 div.sk-toggleable__content pre {margin: 0.2em;color: black;border-radius: 0.25em;background-color: #f0f8ff;}#sk-container-id-2 input.sk-toggleable__control:checked~div.sk-toggleable__content {max-height: 200px;max-width: 100%;overflow: auto;}#sk-container-id-2 input.sk-toggleable__control:checked~label.sk-toggleable__label-arrow:before {content: \"▾\";}#sk-container-id-2 div.sk-estimator input.sk-toggleable__control:checked~label.sk-toggleable__label {background-color: #d4ebff;}#sk-container-id-2 div.sk-label input.sk-toggleable__control:checked~label.sk-toggleable__label {background-color: #d4ebff;}#sk-container-id-2 input.sk-hidden--visually {border: 0;clip: rect(1px 1px 1px 1px);clip: rect(1px, 1px, 1px, 1px);height: 1px;margin: -1px;overflow: hidden;padding: 0;position: absolute;width: 1px;}#sk-container-id-2 div.sk-estimator {font-family: monospace;background-color: #f0f8ff;border: 1px dotted black;border-radius: 0.25em;box-sizing: border-box;margin-bottom: 0.5em;}#sk-container-id-2 div.sk-estimator:hover {background-color: #d4ebff;}#sk-container-id-2 div.sk-parallel-item::after {content: \"\";width: 100%;border-bottom: 1px solid gray;flex-grow: 1;}#sk-container-id-2 div.sk-label:hover label.sk-toggleable__label {background-color: #d4ebff;}#sk-container-id-2 div.sk-serial::before {content: \"\";position: absolute;border-left: 1px solid gray;box-sizing: border-box;top: 0;bottom: 0;left: 50%;z-index: 0;}#sk-container-id-2 div.sk-serial {display: flex;flex-direction: column;align-items: center;background-color: white;padding-right: 0.2em;padding-left: 0.2em;position: relative;}#sk-container-id-2 div.sk-item {position: relative;z-index: 1;}#sk-container-id-2 div.sk-parallel {display: flex;align-items: stretch;justify-content: center;background-color: white;position: relative;}#sk-container-id-2 div.sk-item::before, #sk-container-id-2 div.sk-parallel-item::before {content: \"\";position: absolute;border-left: 1px solid gray;box-sizing: border-box;top: 0;bottom: 0;left: 50%;z-index: -1;}#sk-container-id-2 div.sk-parallel-item {display: flex;flex-direction: column;z-index: 1;position: relative;background-color: white;}#sk-container-id-2 div.sk-parallel-item:first-child::after {align-self: flex-end;width: 50%;}#sk-container-id-2 div.sk-parallel-item:last-child::after {align-self: flex-start;width: 50%;}#sk-container-id-2 div.sk-parallel-item:only-child::after {width: 0;}#sk-container-id-2 div.sk-dashed-wrapped {border: 1px dashed gray;margin: 0 0.4em 0.5em 0.4em;box-sizing: border-box;padding-bottom: 0.4em;background-color: white;}#sk-container-id-2 div.sk-label label {font-family: monospace;font-weight: bold;display: inline-block;line-height: 1.2em;}#sk-container-id-2 div.sk-label-container {text-align: center;}#sk-container-id-2 div.sk-container {/* jupyter's `normalize.less` sets `[hidden] { display: none; }` but bootstrap.min.css set `[hidden] { display: none !important; }` so we also need the `!important` here to be able to override the default hidden behavior on the sphinx rendered scikit-learn.org. See: https://github.com/scikit-learn/scikit-learn/issues/21755 */display: inline-block !important;position: relative;}#sk-container-id-2 div.sk-text-repr-fallback {display: none;}</style><div id=\"sk-container-id-2\" class=\"sk-top-container\"><div class=\"sk-text-repr-fallback\"><pre>NearestNeighbors(metric=&#x27;euclidean&#x27;, n_neighbors=4)</pre><b>In a Jupyter environment, please rerun this cell to show the HTML representation or trust the notebook. <br />On GitHub, the HTML representation is unable to render, please try loading this page with nbviewer.org.</b></div><div class=\"sk-container\" hidden><div class=\"sk-item\"><div class=\"sk-estimator sk-toggleable\"><input class=\"sk-toggleable__control sk-hidden--visually\" id=\"sk-estimator-id-2\" type=\"checkbox\" checked><label for=\"sk-estimator-id-2\" class=\"sk-toggleable__label sk-toggleable__label-arrow\">NearestNeighbors</label><div class=\"sk-toggleable__content\"><pre>NearestNeighbors(metric=&#x27;euclidean&#x27;, n_neighbors=4)</pre></div></div></div></div></div>"
      ],
      "text/plain": [
       "NearestNeighbors(metric='euclidean', n_neighbors=4)"
      ]
     },
     "execution_count": 38,
     "metadata": {},
     "output_type": "execute_result"
    }
   ],
   "source": [
    "#Repeat above steps, but don't consider Market Cap as a feature this time\n",
    "features = [\"Latest Price\",\"3 Mo. Percent Change\", \"1 Year Percent Change\"] \n",
    "X = companies[features].values #Matrix of containing each company and their features\n",
    "\n",
    "#Scale our features\n",
    "scaler = StandardScaler()\n",
    "X_scaled = scaler.fit_transform(X)\n",
    "X_scaled\n",
    "\n",
    "#Set number of neighbors\n",
    "k = 4\n",
    "\n",
    "# Apply the KNN algorithm\n",
    "knn = NearestNeighbors(n_neighbors=k, metric='euclidean')\n",
    "knn.fit(X_scaled)"
   ]
  },
  {
   "cell_type": "code",
   "execution_count": 39,
   "id": "0fcce2e1-64fb-435d-9b1a-476d085280f7",
   "metadata": {},
   "outputs": [
    {
     "data": {
      "text/html": [
       "<div>\n",
       "<style scoped>\n",
       "    .dataframe tbody tr th:only-of-type {\n",
       "        vertical-align: middle;\n",
       "    }\n",
       "\n",
       "    .dataframe tbody tr th {\n",
       "        vertical-align: top;\n",
       "    }\n",
       "\n",
       "    .dataframe thead th {\n",
       "        text-align: right;\n",
       "    }\n",
       "</style>\n",
       "<table border=\"1\" class=\"dataframe\">\n",
       "  <thead>\n",
       "    <tr style=\"text-align: right;\">\n",
       "      <th></th>\n",
       "      <th>Ticker</th>\n",
       "      <th>Description</th>\n",
       "      <th>GICS Sector</th>\n",
       "      <th>Latest Price</th>\n",
       "      <th>Market Capitalization</th>\n",
       "      <th>3 Mo. Percent Change</th>\n",
       "      <th>1 Year Percent Change</th>\n",
       "    </tr>\n",
       "  </thead>\n",
       "  <tbody>\n",
       "    <tr>\n",
       "      <th>0</th>\n",
       "      <td>AAPL</td>\n",
       "      <td>Apple Inc.</td>\n",
       "      <td>Information Technology</td>\n",
       "      <td>174.70</td>\n",
       "      <td>2.728017e+12</td>\n",
       "      <td>0.76</td>\n",
       "      <td>-0.32</td>\n",
       "    </tr>\n",
       "    <tr>\n",
       "      <th>173</th>\n",
       "      <td>RSG</td>\n",
       "      <td>Republic Services, Inc.</td>\n",
       "      <td>Industrials</td>\n",
       "      <td>145.66</td>\n",
       "      <td>4.627216e+10</td>\n",
       "      <td>0.15</td>\n",
       "      <td>-1.47</td>\n",
       "    </tr>\n",
       "    <tr>\n",
       "      <th>344</th>\n",
       "      <td>DOV</td>\n",
       "      <td>Dover Corporation</td>\n",
       "      <td>Industrials</td>\n",
       "      <td>140.57</td>\n",
       "      <td>1.966206e+10</td>\n",
       "      <td>-0.06</td>\n",
       "      <td>0.46</td>\n",
       "    </tr>\n",
       "    <tr>\n",
       "      <th>20</th>\n",
       "      <td>CVX</td>\n",
       "      <td>Chevron Corporation</td>\n",
       "      <td>Energy</td>\n",
       "      <td>160.80</td>\n",
       "      <td>3.069325e+11</td>\n",
       "      <td>2.62</td>\n",
       "      <td>1.31</td>\n",
       "    </tr>\n",
       "  </tbody>\n",
       "</table>\n",
       "</div>"
      ],
      "text/plain": [
       "    Ticker              Description             GICS Sector  Latest Price  \\\n",
       "0     AAPL               Apple Inc.  Information Technology        174.70   \n",
       "173    RSG  Republic Services, Inc.             Industrials        145.66   \n",
       "344    DOV        Dover Corporation             Industrials        140.57   \n",
       "20     CVX      Chevron Corporation                  Energy        160.80   \n",
       "\n",
       "     Market Capitalization  3 Mo. Percent Change  1 Year Percent Change  \n",
       "0             2.728017e+12                  0.76                  -0.32  \n",
       "173           4.627216e+10                  0.15                  -1.47  \n",
       "344           1.966206e+10                 -0.06                   0.46  \n",
       "20            3.069325e+11                  2.62                   1.31  "
      ]
     },
     "execution_count": 39,
     "metadata": {},
     "output_type": "execute_result"
    }
   ],
   "source": [
    "# Find similar companies to Apple\n",
    "apple = companies.loc[0, features]  \n",
    "#Scale apple's features and apply knn\n",
    "apple_scaled = scaler.transform(apple.values.reshape(1, -1))\n",
    "distances, indices = knn.kneighbors(apple_scaled)\n",
    "\n",
    "# Get the similar companies\n",
    "similar_companies_indices = indices.flatten()  \n",
    "similar_companies = companies.loc[similar_companies_indices, :]\n",
    "similar_companies"
   ]
  },
  {
   "cell_type": "markdown",
   "id": "e39795d5-4fd3-4a75-a821-e0d077a34157",
   "metadata": {},
   "source": [
    "As could be expected, when market cap isn't a feature to be considered, the similar companies are different. Now the similar companies to Apple are Republic Services, Dover Corporation, and Chevron Corporation. These companies don't have as large as a market cap as Apple, however, these companies are more similar in their percent change in price over 3 months and 1 year. "
   ]
  },
  {
   "cell_type": "markdown",
   "id": "721d10d4-2234-44ba-8a0e-87229a14803a",
   "metadata": {},
   "source": [
    "To close out, let's run the KNN algorithm one more time, this time on NVIDIA. NVIDIA stock has stockrocketed over the past year due to increasing hype around AI. Advanced GPUs are crucial for running large complex machine learning algorithms, and since NVIDIA has always been ahead of the curve on GPU development, their AI chips are in high demand for use in data centers. We would expect that similar companies to NVIDIA have also jumped up in share price recently."
   ]
  },
  {
   "cell_type": "code",
   "execution_count": 40,
   "id": "9aba8d50-4b94-47a6-8cc3-cf6986cff404",
   "metadata": {},
   "outputs": [
    {
     "data": {
      "text/html": [
       "<div>\n",
       "<style scoped>\n",
       "    .dataframe tbody tr th:only-of-type {\n",
       "        vertical-align: middle;\n",
       "    }\n",
       "\n",
       "    .dataframe tbody tr th {\n",
       "        vertical-align: top;\n",
       "    }\n",
       "\n",
       "    .dataframe thead th {\n",
       "        text-align: right;\n",
       "    }\n",
       "</style>\n",
       "<table border=\"1\" class=\"dataframe\">\n",
       "  <thead>\n",
       "    <tr style=\"text-align: right;\">\n",
       "      <th></th>\n",
       "      <th>Ticker</th>\n",
       "      <th>Description</th>\n",
       "      <th>GICS Sector</th>\n",
       "      <th>Latest Price</th>\n",
       "      <th>Market Capitalization</th>\n",
       "      <th>3 Mo. Percent Change</th>\n",
       "      <th>1 Year Percent Change</th>\n",
       "    </tr>\n",
       "  </thead>\n",
       "  <tbody>\n",
       "    <tr>\n",
       "      <th>4</th>\n",
       "      <td>NVDA</td>\n",
       "      <td>NVIDIA Corporation</td>\n",
       "      <td>Information Technology</td>\n",
       "      <td>435.00</td>\n",
       "      <td>1.069485e+12</td>\n",
       "      <td>43.63</td>\n",
       "      <td>136.40</td>\n",
       "    </tr>\n",
       "    <tr>\n",
       "      <th>301</th>\n",
       "      <td>RCL</td>\n",
       "      <td>Royal Caribbean Cruises Ltd.</td>\n",
       "      <td>Consumer Discretionary</td>\n",
       "      <td>99.20</td>\n",
       "      <td>2.541240e+10</td>\n",
       "      <td>25.00</td>\n",
       "      <td>137.64</td>\n",
       "    </tr>\n",
       "    <tr>\n",
       "      <th>7</th>\n",
       "      <td>LLY</td>\n",
       "      <td>Eli Lilly and Company</td>\n",
       "      <td>Health Care</td>\n",
       "      <td>547.13</td>\n",
       "      <td>5.187233e+11</td>\n",
       "      <td>22.87</td>\n",
       "      <td>69.65</td>\n",
       "    </tr>\n",
       "    <tr>\n",
       "      <th>39</th>\n",
       "      <td>NFLX</td>\n",
       "      <td>Netflix, Inc.</td>\n",
       "      <td>Communication Services</td>\n",
       "      <td>404.51</td>\n",
       "      <td>1.792662e+11</td>\n",
       "      <td>18.54</td>\n",
       "      <td>67.12</td>\n",
       "    </tr>\n",
       "  </tbody>\n",
       "</table>\n",
       "</div>"
      ],
      "text/plain": [
       "    Ticker                   Description             GICS Sector  \\\n",
       "4     NVDA            NVIDIA Corporation  Information Technology   \n",
       "301    RCL  Royal Caribbean Cruises Ltd.  Consumer Discretionary   \n",
       "7      LLY         Eli Lilly and Company             Health Care   \n",
       "39    NFLX                 Netflix, Inc.  Communication Services   \n",
       "\n",
       "     Latest Price  Market Capitalization  3 Mo. Percent Change  \\\n",
       "4          435.00           1.069485e+12                 43.63   \n",
       "301         99.20           2.541240e+10                 25.00   \n",
       "7          547.13           5.187233e+11                 22.87   \n",
       "39         404.51           1.792662e+11                 18.54   \n",
       "\n",
       "     1 Year Percent Change  \n",
       "4                   136.40  \n",
       "301                 137.64  \n",
       "7                    69.65  \n",
       "39                   67.12  "
      ]
     },
     "execution_count": 40,
     "metadata": {},
     "output_type": "execute_result"
    }
   ],
   "source": [
    "# Find similar companies to NVIDIA (index 4 in our table)\n",
    "nvda = companies.loc[4, features]  \n",
    "nvda_scaled = scaler.transform(nvda.values.reshape(1, -1)) #Scaled features for nvda\n",
    "distances, indices = knn.kneighbors(nvda_scaled)\n",
    "\n",
    "# Get the similar companies\n",
    "similar_companies_indices = indices.flatten()  \n",
    "similar_companies = companies.loc[similar_companies_indices, :]\n",
    "similar_companies"
   ]
  },
  {
   "cell_type": "markdown",
   "id": "8935ac12-2114-46da-891f-62662987c796",
   "metadata": {},
   "source": [
    "We see that the most similar company to NVDIA is Royal Caribbean Cruises, whose stock price has jumped up 137.6% in the past year, even more than NVIDIA's. And the other two similar companies: Eli Lilly and Company and Netflix, have also seen impressive gains over the past 3 months and 1 year."
   ]
  },
  {
   "cell_type": "markdown",
   "id": "538263e8-9fb5-4b83-a330-1063497f1359",
   "metadata": {},
   "source": [
    "## Closing Remarks\n",
    "\n",
    "In this day and age, data is plentiful - especially for something as important as the stock market. There are many insights to be gained from financial data, insights that can help you make more-informed investment decisions. In this tutorial, we explored exploratory data analysis to identify trends/outliers in the S&P 500. We created linear regression models to predict prices in future years, and finally, we used the K-Nearest Neighbors machine learning algorithm to identify which companies in the S&P 500 are similar to each other based on features we select. Hope you enjoyed!"
   ]
  },
  {
   "cell_type": "code",
   "execution_count": null,
   "id": "d245e80d-22e4-40dd-b1e8-0209a3fbeb95",
   "metadata": {},
   "outputs": [],
   "source": []
  }
 ],
 "metadata": {
  "kernelspec": {
   "display_name": "Python 3 (ipykernel)",
   "language": "python",
   "name": "python3"
  },
  "language_info": {
   "codemirror_mode": {
    "name": "ipython",
    "version": 3
   },
   "file_extension": ".py",
   "mimetype": "text/x-python",
   "name": "python",
   "nbconvert_exporter": "python",
   "pygments_lexer": "ipython3",
   "version": "3.11.4"
  }
 },
 "nbformat": 4,
 "nbformat_minor": 5
}
